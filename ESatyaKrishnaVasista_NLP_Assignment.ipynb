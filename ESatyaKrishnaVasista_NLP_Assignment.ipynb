{
 "cells": [
  {
   "cell_type": "markdown",
   "id": "5e60484a-e40e-4f60-975e-34c643e066d6",
   "metadata": {},
   "source": [
    "# Syantactic Processing - Assignment"
   ]
  },
  {
   "cell_type": "markdown",
   "id": "4489ca9f-ff5d-402c-a2c3-29bfac05c788",
   "metadata": {},
   "source": [
    "### Imports and Prepare the Model"
   ]
  },
  {
   "cell_type": "code",
   "execution_count": 1,
   "id": "a67e5ca0-8117-4f98-a1cc-e3f455e9bd1b",
   "metadata": {},
   "outputs": [
    {
     "name": "stdout",
     "output_type": "stream",
     "text": [
      "Requirement already satisfied: sklearn-crfsuite in c:\\program files\\python39\\lib\\site-packages (0.3.6)\n",
      "Requirement already satisfied: python-crfsuite>=0.8.3 in c:\\program files\\python39\\lib\\site-packages (from sklearn-crfsuite) (0.9.9)\n",
      "Requirement already satisfied: six in c:\\program files\\python39\\lib\\site-packages (from sklearn-crfsuite) (1.16.0)\n",
      "Requirement already satisfied: tabulate in c:\\program files\\python39\\lib\\site-packages (from sklearn-crfsuite) (0.9.0)\n",
      "Requirement already satisfied: tqdm>=2.0 in c:\\program files\\python39\\lib\\site-packages (from sklearn-crfsuite) (4.66.1)\n",
      "Requirement already satisfied: colorama in c:\\program files\\python39\\lib\\site-packages (from tqdm>=2.0->sklearn-crfsuite) (0.4.6)\n"
     ]
    }
   ],
   "source": [
    "!pip install sklearn-crfsuite"
   ]
  },
  {
   "cell_type": "code",
   "execution_count": 2,
   "id": "9e29b2b2-0e26-460c-b3f8-c72094db89ed",
   "metadata": {},
   "outputs": [],
   "source": [
    "import spacy\n",
    "import sklearn_crfsuite\n",
    "from sklearn_crfsuite import metrics\n",
    "\n",
    "model = spacy.load(\"en_core_web_sm\")"
   ]
  },
  {
   "cell_type": "code",
   "execution_count": 3,
   "id": "c261c8f7-3170-4b55-a519-f8418db5da97",
   "metadata": {},
   "outputs": [],
   "source": [
    "import pandas as pd\n",
    "import numpy as np"
   ]
  },
  {
   "cell_type": "markdown",
   "id": "dc4bc15e-6f02-48dc-a91b-ed8749f2ca4d",
   "metadata": {},
   "source": [
    "## Read the input file contents"
   ]
  },
  {
   "cell_type": "code",
   "execution_count": 4,
   "id": "0ce3c9b3-8709-480e-93b2-305e65bd29b7",
   "metadata": {},
   "outputs": [],
   "source": [
    "base_dir = './'\n",
    "with open(base_dir+'train_sent', 'r') as train_sentence_file:\n",
    "  input_train_sent = train_sentence_file.readlines()\n",
    "\n",
    "with open(base_dir+'train_label', 'r') as train_label_file:\n",
    "  input_train_labels = train_label_file.readlines()\n",
    "\n",
    "with open(base_dir+'test_sent', 'r') as test_sentence_file:\n",
    "  input_test_sent = test_sentence_file.readlines()\n",
    "\n",
    "with open(base_dir+'test_label', 'r') as test_label_file:\n",
    "  input_test_labels = test_label_file.readlines()\n"
   ]
  },
  {
   "cell_type": "code",
   "execution_count": 5,
   "id": "60e0b067-b860-47f9-8fa1-319eba21bcad",
   "metadata": {},
   "outputs": [
    {
     "data": {
      "text/plain": [
       "['O\\n', 'O\\n', 'O\\n', 'O\\n', 'O\\n']"
      ]
     },
     "execution_count": 5,
     "metadata": {},
     "output_type": "execute_result"
    }
   ],
   "source": [
    "input_train_sent[0:5]\n",
    "input_train_labels[0:5]"
   ]
  },
  {
   "cell_type": "markdown",
   "id": "a91d0626-e4b8-40c6-9f98-6654410b170a",
   "metadata": {},
   "source": [
    "**The Lines in each file have \\n as a trailing character. This needs to be trimmed down before creating the sentences**"
   ]
  },
  {
   "cell_type": "code",
   "execution_count": 6,
   "id": "c2cb08b5-1244-4e4c-9901-039cd48c2f20",
   "metadata": {},
   "outputs": [],
   "source": [
    "input_train_sent = [word.splitlines()[0].lower() for word in input_train_sent]\n",
    "input_train_labels = [word.splitlines()[0] for word in input_train_labels]\n",
    "\n",
    "input_test_sent = [word.splitlines()[0].lower() for word in input_test_sent]\n",
    "input_test_labels = [word.splitlines()[0] for word in input_test_labels]"
   ]
  },
  {
   "cell_type": "code",
   "execution_count": 7,
   "id": "a9d18c1d-cbb3-44f6-8a7c-ad18393a2a83",
   "metadata": {},
   "outputs": [],
   "source": [
    "def get_sentences(data):\n",
    "    \"Returns a list of sentences by joining the input data wherever an empty string value is encountered...\"\n",
    "    return_data = []\n",
    "    current_line = ''\n",
    "    for word in data:\n",
    "        if len(word) == 0 :\n",
    "            return_data.append(current_line)\n",
    "            current_line = \"\"\n",
    "        else:\n",
    "            if len(current_line) == 0:\n",
    "                current_line = word\n",
    "            else:\n",
    "                current_line += ' '+ word\n",
    "    return return_data"
   ]
  },
  {
   "cell_type": "code",
   "execution_count": 8,
   "id": "94dd44a1-89e7-48b3-b1e1-f3a251b236fd",
   "metadata": {},
   "outputs": [],
   "source": [
    "train_sentences = get_sentences(input_train_sent)\n",
    "train_labels = get_sentences(input_train_labels)\n",
    "test_sentences = get_sentences(input_test_sent)\n",
    "test_labels = get_sentences(input_test_labels)"
   ]
  },
  {
   "cell_type": "code",
   "execution_count": 9,
   "id": "e28e5ea4-6c69-41b5-89a0-fd835eabfac1",
   "metadata": {},
   "outputs": [
    {
     "name": "stdout",
     "output_type": "stream",
     "text": [
      "Total Sentences in the training Corpus:  2599\n",
      "Total Labels in the training Corpus:  2599\n",
      "Total Sentences in the testing Corpus:  1056\n",
      "Total Labels in the testing Corpus:  1056\n"
     ]
    }
   ],
   "source": [
    "print(\"Total Sentences in the training Corpus: \", len(train_sentences))\n",
    "print(\"Total Labels in the training Corpus: \", len(train_labels))\n",
    "print(\"Total Sentences in the testing Corpus: \", len(test_sentences))\n",
    "print(\"Total Labels in the testing Corpus: \", len(test_labels))\n"
   ]
  },
  {
   "cell_type": "markdown",
   "id": "ca1fabd5-7693-4276-935a-81feb0fceea8",
   "metadata": {},
   "source": [
    "### Task-01: Print 5 sentences"
   ]
  },
  {
   "cell_type": "markdown",
   "id": "7d45537d-0ec8-4990-8cb8-77d7f0ef26a4",
   "metadata": {},
   "source": [
    "#### Training sentences"
   ]
  },
  {
   "cell_type": "code",
   "execution_count": 10,
   "id": "138f46ce-c2e8-43a1-81e6-23e660abf4a4",
   "metadata": {},
   "outputs": [
    {
     "name": "stdout",
     "output_type": "stream",
     "text": [
      "Sentence:  all live births > or = 23 weeks at the university of vermont in 1995 ( n = 2395 ) were retrospectively analyzed for delivery route , indication for cesarean , gestational age , parity , and practice group ( to reflect risk status )\n",
      "Labels:  O O O O O O O O O O O O O O O O O O O O O O O O O O O O O O O O O O O O O O O O O O O O O\n",
      "\n",
      "Sentence:  the total cesarean rate was 14.4 % ( 344 of 2395 ) , and the primary rate was 11.4 % ( 244 of 2144 )\n",
      "Labels:  O O O O O O O O O O O O O O O O O O O O O O O O O\n",
      "\n",
      "Sentence:  abnormal presentation was the most common indication ( 25.6 % , 88 of 344 )\n",
      "Labels:  O O O O O O O O O O O O O O O\n",
      "\n",
      "Sentence:  the `` corrected '' cesarean rate ( maternal-fetal medicine and transported patients excluded ) was 12.4 % ( 273 of 2194 ) , and the `` corrected '' primary rate was 9.6 % ( 190 of 1975 )\n",
      "Labels:  O O O O O O O O O O O O O O O O O O O O O O O O O O O O O O O O O O O O O O\n",
      "\n",
      "Sentence:  arrest of dilation was the most common indication in both `` corrected '' subgroups ( 23.4 and 24.6 % , respectively )\n",
      "Labels:  O O O O O O O O O O O O O O O O O O O O O O\n",
      "\n"
     ]
    }
   ],
   "source": [
    "for i in range(0,5):\n",
    "    print(\"Sentence: \", train_sentences[i])\n",
    "    print(\"Labels: \", train_labels[i], end=\"\\n\\n\")"
   ]
  },
  {
   "cell_type": "markdown",
   "id": "020057ef-82fb-497b-94a4-f0432ae0f1a9",
   "metadata": {},
   "source": [
    "#### Testing sentences"
   ]
  },
  {
   "cell_type": "code",
   "execution_count": 11,
   "id": "83ed71e0-4fdf-43f6-b0bb-285e24cf2a60",
   "metadata": {},
   "outputs": [
    {
     "name": "stdout",
     "output_type": "stream",
     "text": [
      "Sentence:  furthermore , when all deliveries were analyzed , regardless of risk status but limited to gestational age > or = 36 weeks , the rates did not change ( 12.6 % , 280 of 2214 ; primary 9.2 % , 183 of 1994 )\n",
      "Labels:  O O O O O O O O O O O O O O O O O O O O O O O O O O O O O O O O O O O O O O O O O O O O\n",
      "\n",
      "Sentence:  as the ambient temperature increases , there is an increase in insensible fluid loss and the potential for dehydration\n",
      "Labels:  O O O O O O O O O O O O O O O O O O O\n",
      "\n",
      "Sentence:  the daily high temperature ranged from 71 to 104 degrees f and afi values ranged from 1.7 to 24.7 cm during the study period\n",
      "Labels:  O O O O O O O O O O O O O O O O O O O O O O O O\n",
      "\n",
      "Sentence:  there was a significant correlation between the 2- , 3- , and 4-day mean temperature and afi , with the 4-day mean being the most significant ( r = 0.31 , p & # 60 ; 0.001 )\n",
      "Labels:  O O O O O O O O O O O O O O O O O O O O O O O O O O O O O O O O O O O O O O\n",
      "\n",
      "Sentence:  fluctuations in ambient temperature are inversely correlated to changes in afi\n",
      "Labels:  O O O O O O O O O O O\n",
      "\n"
     ]
    }
   ],
   "source": [
    "for i in range(0,5):\n",
    "    print(\"Sentence: \", test_sentences[i])\n",
    "    print(\"Labels: \", test_labels[i], end=\"\\n\\n\")"
   ]
  },
  {
   "cell_type": "code",
   "execution_count": null,
   "id": "0b71ead9-c8da-401a-b222-3994f1086598",
   "metadata": {},
   "outputs": [],
   "source": []
  },
  {
   "cell_type": "markdown",
   "id": "a181343c-de42-4144-8201-9d772d98ee41",
   "metadata": {},
   "source": [
    "### Task-02: Extract the POS - Frequency of NOUN OR PROPN in train & test corpus"
   ]
  },
  {
   "cell_type": "code",
   "execution_count": 12,
   "id": "5ecac873-3645-4897-b13c-5efd8c0e57d3",
   "metadata": {},
   "outputs": [],
   "source": [
    "train_data = pd.DataFrame(columns=['sent', 'Text', 'LEMMA', 'POS', 'DEP'])\n",
    "test_data = pd.DataFrame(columns=['sent', 'Text', 'LEMMA', 'POS', 'DEP'])"
   ]
  },
  {
   "cell_type": "code",
   "execution_count": 13,
   "id": "f219cee6-c11a-4316-8187-d4ed737a6a10",
   "metadata": {
    "scrolled": true
   },
   "outputs": [],
   "source": [
    "for index, each_sent in enumerate(train_sentences):\n",
    "    sent = model(each_sent)\n",
    "    for token in sent:\n",
    "        train_data.loc[len(train_data)] = {'sent': index, 'Text': token.text, 'LEMMA': token.lemma_, 'POS' : token.pos_, 'DEP': token.dep_}"
   ]
  },
  {
   "cell_type": "code",
   "execution_count": 14,
   "id": "74afd47e-f4ca-49f9-b277-9368de65e6bb",
   "metadata": {
    "scrolled": true
   },
   "outputs": [],
   "source": [
    "for index, each_sent in enumerate(test_sentences):\n",
    "    sent = model(each_sent)\n",
    "    for token in sent:\n",
    "        test_data.loc[len(test_data)] = {'sent': index, 'Text': token.text, 'LEMMA': token.lemma_, 'POS' : token.pos_, 'DEP': token.dep_}"
   ]
  },
  {
   "cell_type": "code",
   "execution_count": 15,
   "id": "149b5dc2-b8c7-40f6-a7a0-4dd6cfde6f88",
   "metadata": {},
   "outputs": [],
   "source": [
    "nouns_in_train_data = train_data[(train_data.POS == 'NOUN') | (train_data.POS == 'PROPN')].loc[:, ['Text', 'POS']]\n",
    "nouns_in_test_data = test_data[(test_data.POS == 'NOUN') | (test_data.POS == 'PROPN')].loc[:, ['Text', 'POS']]\n",
    "\n",
    "final_nouns_in_data= pd.concat([nouns_in_train_data, nouns_in_test_data])"
   ]
  },
  {
   "cell_type": "code",
   "execution_count": 16,
   "id": "fedc7d5c-9ea8-4c72-adec-7bf603b4fd82",
   "metadata": {},
   "outputs": [
    {
     "data": {
      "text/html": [
       "<div>\n",
       "<style scoped>\n",
       "    .dataframe tbody tr th:only-of-type {\n",
       "        vertical-align: middle;\n",
       "    }\n",
       "\n",
       "    .dataframe tbody tr th {\n",
       "        vertical-align: top;\n",
       "    }\n",
       "\n",
       "    .dataframe thead th {\n",
       "        text-align: right;\n",
       "    }\n",
       "</style>\n",
       "<table border=\"1\" class=\"dataframe\">\n",
       "  <thead>\n",
       "    <tr style=\"text-align: right;\">\n",
       "      <th></th>\n",
       "      <th>POS</th>\n",
       "    </tr>\n",
       "    <tr>\n",
       "      <th>Text</th>\n",
       "      <th></th>\n",
       "    </tr>\n",
       "  </thead>\n",
       "  <tbody>\n",
       "    <tr>\n",
       "      <th>patients</th>\n",
       "      <td>507</td>\n",
       "    </tr>\n",
       "    <tr>\n",
       "      <th>treatment</th>\n",
       "      <td>304</td>\n",
       "    </tr>\n",
       "    <tr>\n",
       "      <th>%</th>\n",
       "      <td>247</td>\n",
       "    </tr>\n",
       "    <tr>\n",
       "      <th>cancer</th>\n",
       "      <td>211</td>\n",
       "    </tr>\n",
       "    <tr>\n",
       "      <th>therapy</th>\n",
       "      <td>177</td>\n",
       "    </tr>\n",
       "    <tr>\n",
       "      <th>...</th>\n",
       "      <td>...</td>\n",
       "    </tr>\n",
       "    <tr>\n",
       "      <th>midline</th>\n",
       "      <td>1</td>\n",
       "    </tr>\n",
       "    <tr>\n",
       "      <th>midwives</th>\n",
       "      <td>1</td>\n",
       "    </tr>\n",
       "    <tr>\n",
       "      <th>communications</th>\n",
       "      <td>1</td>\n",
       "    </tr>\n",
       "    <tr>\n",
       "      <th>communication</th>\n",
       "      <td>1</td>\n",
       "    </tr>\n",
       "    <tr>\n",
       "      <th>lambdagt11</th>\n",
       "      <td>1</td>\n",
       "    </tr>\n",
       "  </tbody>\n",
       "</table>\n",
       "<p>5609 rows × 1 columns</p>\n",
       "</div>"
      ],
      "text/plain": [
       "                POS\n",
       "Text               \n",
       "patients        507\n",
       "treatment       304\n",
       "%               247\n",
       "cancer          211\n",
       "therapy         177\n",
       "...             ...\n",
       "midline           1\n",
       "midwives          1\n",
       "communications    1\n",
       "communication     1\n",
       "lambdagt11        1\n",
       "\n",
       "[5609 rows x 1 columns]"
      ]
     },
     "execution_count": 16,
     "metadata": {},
     "output_type": "execute_result"
    }
   ],
   "source": [
    "final_nouns_in_data.groupby(by='Text').agg('count').sort_values(by='POS', ascending=False)"
   ]
  },
  {
   "cell_type": "code",
   "execution_count": 17,
   "id": "651fe5e2-a5db-4edb-ba5c-ecf15f6426f7",
   "metadata": {},
   "outputs": [],
   "source": [
    "grouped_final_nouns_in_data = final_nouns_in_data.groupby(by='Text').agg('count').sort_values(by='POS', ascending=False).reset_index()"
   ]
  },
  {
   "cell_type": "markdown",
   "id": "94ada430-30c9-4d2d-ad87-a0d8da0f5cac",
   "metadata": {},
   "source": [
    "**Top 25 Most frequent words in the corpus (training+testing)**"
   ]
  },
  {
   "cell_type": "code",
   "execution_count": 18,
   "id": "2c2b28d6-fba3-48a5-9a5f-a2b6f156c6d9",
   "metadata": {},
   "outputs": [
    {
     "data": {
      "text/html": [
       "<div>\n",
       "<style scoped>\n",
       "    .dataframe tbody tr th:only-of-type {\n",
       "        vertical-align: middle;\n",
       "    }\n",
       "\n",
       "    .dataframe tbody tr th {\n",
       "        vertical-align: top;\n",
       "    }\n",
       "\n",
       "    .dataframe thead th {\n",
       "        text-align: right;\n",
       "    }\n",
       "</style>\n",
       "<table border=\"1\" class=\"dataframe\">\n",
       "  <thead>\n",
       "    <tr style=\"text-align: right;\">\n",
       "      <th></th>\n",
       "      <th>Text</th>\n",
       "      <th>POS</th>\n",
       "    </tr>\n",
       "  </thead>\n",
       "  <tbody>\n",
       "    <tr>\n",
       "      <th>0</th>\n",
       "      <td>patients</td>\n",
       "      <td>507</td>\n",
       "    </tr>\n",
       "    <tr>\n",
       "      <th>1</th>\n",
       "      <td>treatment</td>\n",
       "      <td>304</td>\n",
       "    </tr>\n",
       "    <tr>\n",
       "      <th>2</th>\n",
       "      <td>%</td>\n",
       "      <td>247</td>\n",
       "    </tr>\n",
       "    <tr>\n",
       "      <th>3</th>\n",
       "      <td>cancer</td>\n",
       "      <td>211</td>\n",
       "    </tr>\n",
       "    <tr>\n",
       "      <th>4</th>\n",
       "      <td>therapy</td>\n",
       "      <td>177</td>\n",
       "    </tr>\n",
       "    <tr>\n",
       "      <th>5</th>\n",
       "      <td>study</td>\n",
       "      <td>174</td>\n",
       "    </tr>\n",
       "    <tr>\n",
       "      <th>6</th>\n",
       "      <td>disease</td>\n",
       "      <td>151</td>\n",
       "    </tr>\n",
       "    <tr>\n",
       "      <th>7</th>\n",
       "      <td>cell</td>\n",
       "      <td>142</td>\n",
       "    </tr>\n",
       "    <tr>\n",
       "      <th>8</th>\n",
       "      <td>lung</td>\n",
       "      <td>118</td>\n",
       "    </tr>\n",
       "    <tr>\n",
       "      <th>9</th>\n",
       "      <td>results</td>\n",
       "      <td>117</td>\n",
       "    </tr>\n",
       "    <tr>\n",
       "      <th>10</th>\n",
       "      <td>group</td>\n",
       "      <td>111</td>\n",
       "    </tr>\n",
       "    <tr>\n",
       "      <th>11</th>\n",
       "      <td>effects</td>\n",
       "      <td>99</td>\n",
       "    </tr>\n",
       "    <tr>\n",
       "      <th>12</th>\n",
       "      <td>gene</td>\n",
       "      <td>92</td>\n",
       "    </tr>\n",
       "    <tr>\n",
       "      <th>13</th>\n",
       "      <td>chemotherapy</td>\n",
       "      <td>91</td>\n",
       "    </tr>\n",
       "    <tr>\n",
       "      <th>14</th>\n",
       "      <td>use</td>\n",
       "      <td>88</td>\n",
       "    </tr>\n",
       "    <tr>\n",
       "      <th>15</th>\n",
       "      <td>effect</td>\n",
       "      <td>82</td>\n",
       "    </tr>\n",
       "    <tr>\n",
       "      <th>16</th>\n",
       "      <td>women</td>\n",
       "      <td>81</td>\n",
       "    </tr>\n",
       "    <tr>\n",
       "      <th>17</th>\n",
       "      <td>analysis</td>\n",
       "      <td>76</td>\n",
       "    </tr>\n",
       "    <tr>\n",
       "      <th>18</th>\n",
       "      <td>risk</td>\n",
       "      <td>74</td>\n",
       "    </tr>\n",
       "    <tr>\n",
       "      <th>19</th>\n",
       "      <td>surgery</td>\n",
       "      <td>73</td>\n",
       "    </tr>\n",
       "    <tr>\n",
       "      <th>20</th>\n",
       "      <td>cases</td>\n",
       "      <td>72</td>\n",
       "    </tr>\n",
       "    <tr>\n",
       "      <th>21</th>\n",
       "      <td>p</td>\n",
       "      <td>72</td>\n",
       "    </tr>\n",
       "    <tr>\n",
       "      <th>22</th>\n",
       "      <td>rate</td>\n",
       "      <td>68</td>\n",
       "    </tr>\n",
       "    <tr>\n",
       "      <th>23</th>\n",
       "      <td>survival</td>\n",
       "      <td>67</td>\n",
       "    </tr>\n",
       "    <tr>\n",
       "      <th>24</th>\n",
       "      <td>children</td>\n",
       "      <td>66</td>\n",
       "    </tr>\n",
       "  </tbody>\n",
       "</table>\n",
       "</div>"
      ],
      "text/plain": [
       "            Text  POS\n",
       "0       patients  507\n",
       "1      treatment  304\n",
       "2              %  247\n",
       "3         cancer  211\n",
       "4        therapy  177\n",
       "5          study  174\n",
       "6        disease  151\n",
       "7           cell  142\n",
       "8           lung  118\n",
       "9        results  117\n",
       "10         group  111\n",
       "11       effects   99\n",
       "12          gene   92\n",
       "13  chemotherapy   91\n",
       "14           use   88\n",
       "15        effect   82\n",
       "16         women   81\n",
       "17      analysis   76\n",
       "18          risk   74\n",
       "19       surgery   73\n",
       "20         cases   72\n",
       "21             p   72\n",
       "22          rate   68\n",
       "23      survival   67\n",
       "24      children   66"
      ]
     },
     "execution_count": 18,
     "metadata": {},
     "output_type": "execute_result"
    }
   ],
   "source": [
    "grouped_final_nouns_in_data.head(25)"
   ]
  },
  {
   "cell_type": "code",
   "execution_count": null,
   "id": "89d84ade-aa05-4aeb-ae35-f577af441458",
   "metadata": {},
   "outputs": [],
   "source": []
  },
  {
   "cell_type": "markdown",
   "id": "14d140f0-a262-46d5-8f0a-b1df6b2512a3",
   "metadata": {},
   "source": [
    "### Task-03: Define the CRF Features"
   ]
  },
  {
   "cell_type": "markdown",
   "id": "b0639bbb-cb47-4915-89b6-c8e3d453aa29",
   "metadata": {},
   "source": [
    "#### Functions to Process the Sentences"
   ]
  },
  {
   "cell_type": "code",
   "execution_count": 19,
   "id": "f2fff3bd-97dc-4a5f-8365-db91a91423d6",
   "metadata": {},
   "outputs": [],
   "source": [
    "def features_for_word(sentence, position, pos_tags):\n",
    "    word = sentence[position]\n",
    "    features = [\n",
    "        'word.lower=' + word.lower(), # serves as word id\n",
    "        'word[-3:]=' + word[-3:],     # last three characters\n",
    "        'word[-2:]=' + word[-2:],     # last two characters\n",
    "        'word.isupper=%s' % word.isupper(),  # is the word in all uppercase\n",
    "        'word.isdigit=%s' % word.isdigit(),  # is the word a number\n",
    "        'word.startsWithCapital=%s' % word[0].isupper(), # is the word starting with a capital letter\n",
    "        'word.pos=' + pos_tags[position]\n",
    "    ]\n",
    "    if position > 0:\n",
    "        prev_word = sentence[position-1]\n",
    "        previous_word_features = [\n",
    "        'prev_word.lower=' + prev_word.lower(),\n",
    "        'prev_word.isupper=%s' % prev_word.isupper(),\n",
    "        'prev_word.isdigit=%s' % prev_word.isdigit(),\n",
    "        'prev_word.startsWithCapital=%s' % prev_word[0].isupper(),\n",
    "        'prev_word.pos=' + pos_tags[position-1]]\n",
    "        features.extend(previous_word_features)\n",
    "    else:\n",
    "        features.append('BEG')\n",
    "\n",
    "    if (position == len(sentence)-1):\n",
    "        features.append('END')\n",
    "\n",
    "    return features"
   ]
  },
  {
   "cell_type": "markdown",
   "id": "9fa09ec5-5705-4036-ac93-ef800b800ea3",
   "metadata": {},
   "source": [
    "### Task-04: Compute the Features of a Sentence"
   ]
  },
  {
   "cell_type": "code",
   "execution_count": 20,
   "id": "a6bde0d3-8e8b-4bed-85d7-5a4215e356b6",
   "metadata": {},
   "outputs": [],
   "source": [
    "def features_for_sentence(sentence):\n",
    "    spacy_sentence = model(sentence)\n",
    "\n",
    "    words = sentence.split()\n",
    "    pos_tags = [word.pos_ for word in spacy_sentence]\n",
    "\n",
    "    return [features_for_word(sentence, i, pos_tags) for i in range(0, len(words))]"
   ]
  },
  {
   "cell_type": "code",
   "execution_count": 21,
   "id": "455b8893-d4c9-4a30-be45-4db59423fe3a",
   "metadata": {},
   "outputs": [
    {
     "data": {
      "text/plain": [
       "['word.lower=a',\n",
       " 'word[-3:]=a',\n",
       " 'word[-2:]=a',\n",
       " 'word.isupper=False',\n",
       " 'word.isdigit=False',\n",
       " 'word.startsWithCapital=False',\n",
       " 'word.pos=DET',\n",
       " 'BEG']"
      ]
     },
     "execution_count": 21,
     "metadata": {},
     "output_type": "execute_result"
    }
   ],
   "source": [
    "features_for_sentence(train_sentences[0])[0]"
   ]
  },
  {
   "cell_type": "markdown",
   "id": "3b82056d-c068-47f9-9888-04a256097d71",
   "metadata": {},
   "source": [
    "#### Functions to process the Labels"
   ]
  },
  {
   "cell_type": "code",
   "execution_count": 22,
   "id": "95ea84d2-3668-4252-91ec-d5677a0b9e3f",
   "metadata": {},
   "outputs": [],
   "source": [
    "def labels_for_sentence(labels):\n",
    "  return labels.split()"
   ]
  },
  {
   "cell_type": "code",
   "execution_count": null,
   "id": "380e1b84-2cbc-4dd7-aca0-279f11576ad9",
   "metadata": {},
   "outputs": [],
   "source": []
  },
  {
   "cell_type": "code",
   "execution_count": null,
   "id": "a69372b7-0aa1-4562-952a-224f93a7956a",
   "metadata": {},
   "outputs": [],
   "source": []
  },
  {
   "cell_type": "markdown",
   "id": "d87a8c2e-2fb3-4ff1-971e-8f4b7ac07803",
   "metadata": {},
   "source": [
    "### Task-05: Extract Features' Values for the Sentence"
   ]
  },
  {
   "cell_type": "code",
   "execution_count": 23,
   "id": "ccd220cc-42e9-4306-9bbf-135661e3ca09",
   "metadata": {},
   "outputs": [],
   "source": [
    "X_train = [features_for_sentence(sentence) for sentence in train_sentences]\n",
    "Y_train = [labels_for_sentence(labels) for labels in train_labels]"
   ]
  },
  {
   "cell_type": "code",
   "execution_count": 24,
   "id": "bc4887fc-30a1-497f-b5ae-ff73b8a87255",
   "metadata": {},
   "outputs": [],
   "source": [
    "X_test = [features_for_sentence(sentence) for sentence in test_sentences]\n",
    "Y_test = [labels_for_sentence(labels) for labels in test_labels]"
   ]
  },
  {
   "cell_type": "code",
   "execution_count": null,
   "id": "6c237025-60fd-4468-a203-8ab4e49cfe37",
   "metadata": {},
   "outputs": [],
   "source": []
  },
  {
   "cell_type": "code",
   "execution_count": 25,
   "id": "281081d9-b656-4b4e-a292-01f7f4f6615b",
   "metadata": {},
   "outputs": [
    {
     "name": "stdout",
     "output_type": "stream",
     "text": [
      "['word.lower=a', 'word[-3:]=a', 'word[-2:]=a', 'word.isupper=False', 'word.isdigit=False', 'word.startsWithCapital=False', 'word.pos=DET', 'BEG']\n"
     ]
    }
   ],
   "source": [
    "print(X_train[0][0])"
   ]
  },
  {
   "cell_type": "code",
   "execution_count": 26,
   "id": "e55b0467-05a0-47c0-8805-7cbd7970d453",
   "metadata": {},
   "outputs": [
    {
     "name": "stdout",
     "output_type": "stream",
     "text": [
      "['O', 'O', 'O', 'O', 'O', 'O', 'O', 'O', 'O', 'O', 'O', 'O', 'O', 'O', 'O', 'O', 'O', 'O', 'O', 'O', 'O', 'O', 'O', 'O', 'O', 'O', 'O', 'O', 'O', 'O', 'O', 'O', 'O', 'O', 'O', 'O', 'O', 'O', 'O', 'O', 'O', 'O', 'O', 'O', 'O']\n"
     ]
    }
   ],
   "source": [
    "print(Y_train[0])"
   ]
  },
  {
   "cell_type": "code",
   "execution_count": null,
   "id": "6633707e-bb25-4649-9975-a4305dee6c78",
   "metadata": {},
   "outputs": [],
   "source": []
  },
  {
   "cell_type": "code",
   "execution_count": null,
   "id": "ab3cce83-c93a-4c96-800c-ff1265d2c4c0",
   "metadata": {},
   "outputs": [],
   "source": []
  },
  {
   "cell_type": "markdown",
   "id": "bb1897bd-1b18-4d4f-89f3-cdb08a5ca2ac",
   "metadata": {},
   "source": [
    "### Task-06: CRF model for a custom NER application"
   ]
  },
  {
   "cell_type": "code",
   "execution_count": 27,
   "id": "c8b61be3-4820-4819-a3ac-1a7aeef440a2",
   "metadata": {},
   "outputs": [],
   "source": [
    "import sklearn_crfsuite\n",
    "from sklearn_crfsuite import metrics"
   ]
  },
  {
   "cell_type": "code",
   "execution_count": 28,
   "id": "dca5cecb-68b0-4e5d-8b15-6940d2456663",
   "metadata": {},
   "outputs": [],
   "source": [
    "crf = sklearn_crfsuite.CRF(max_iterations=100, keep_tempfiles=False)\n",
    "\n",
    "try:\n",
    "    crf.fit(X_train, Y_train)\n",
    "except AttributeError:\n",
    "    pass"
   ]
  },
  {
   "cell_type": "markdown",
   "id": "8055f509-b027-4395-8b58-69d3d53ee3e2",
   "metadata": {},
   "source": [
    "**Print Transition Details**"
   ]
  },
  {
   "cell_type": "code",
   "execution_count": 29,
   "id": "1916237a-0fac-4c37-8a92-0d2514a403d5",
   "metadata": {},
   "outputs": [
    {
     "data": {
      "text/plain": [
       "{('O', 'O'): 0.79306,\n",
       " ('O', 'D'): 0.427092,\n",
       " ('O', 'T'): -1.201872,\n",
       " ('D', 'O'): -0.88395,\n",
       " ('D', 'D'): 3.591458,\n",
       " ('D', 'T'): -2.139198,\n",
       " ('T', 'O'): 0.258317,\n",
       " ('T', 'T'): 3.423218}"
      ]
     },
     "execution_count": 29,
     "metadata": {},
     "output_type": "execute_result"
    }
   ],
   "source": [
    "crf.transition_features_"
   ]
  },
  {
   "cell_type": "code",
   "execution_count": 30,
   "id": "35b497fe-377f-4559-b411-56be477c61b9",
   "metadata": {},
   "outputs": [
    {
     "data": {
      "text/plain": [
       "['O', 'D', 'T']"
      ]
     },
     "execution_count": 30,
     "metadata": {},
     "output_type": "execute_result"
    }
   ],
   "source": [
    "crf.classes_"
   ]
  },
  {
   "cell_type": "code",
   "execution_count": 31,
   "id": "20cc9092-32ac-45fb-9247-66d8cdd4052e",
   "metadata": {
    "scrolled": true
   },
   "outputs": [
    {
     "data": {
      "text/plain": [
       "{('word.lower=a', 'O'): 0.020241,\n",
       " ('word.lower=a', 'D'): -0.02736,\n",
       " ('word.lower=a', 'T'): 0.007119,\n",
       " ('word[-3:]=a', 'O'): 0.020241,\n",
       " ('word[-3:]=a', 'D'): -0.02736,\n",
       " ('word[-3:]=a', 'T'): 0.007119,\n",
       " ('word[-2:]=a', 'O'): 0.020241,\n",
       " ('word[-2:]=a', 'D'): -0.02736,\n",
       " ('word[-2:]=a', 'T'): 0.007119,\n",
       " ('word.isupper=False', 'O'): 0.77731,\n",
       " ('word.isupper=False', 'D'): -0.32984,\n",
       " ('word.isupper=False', 'T'): -0.44747,\n",
       " ('word.isdigit=False', 'O'): 0.450665,\n",
       " ('word.isdigit=False', 'D'): -0.31765,\n",
       " ('word.isdigit=False', 'T'): -0.133014,\n",
       " ('word.startsWithCapital=False', 'O'): 0.77731,\n",
       " ('word.startsWithCapital=False', 'D'): -0.32984,\n",
       " ('word.startsWithCapital=False', 'T'): -0.44747,\n",
       " ('word.pos=DET', 'O'): 0.761333,\n",
       " ('word.pos=DET', 'D'): -0.228608,\n",
       " ('word.pos=DET', 'T'): -0.532724,\n",
       " ('BEG', 'O'): 0.609883,\n",
       " ('BEG', 'D'): -0.080265,\n",
       " ('BEG', 'T'): -0.529618,\n",
       " ('word.lower=l', 'O'): -0.061103,\n",
       " ('word.lower=l', 'D'): 0.020057,\n",
       " ('word.lower=l', 'T'): 0.041046,\n",
       " ('word[-3:]=l', 'O'): -0.061103,\n",
       " ('word[-3:]=l', 'D'): 0.020057,\n",
       " ('word[-3:]=l', 'T'): 0.041046,\n",
       " ('word[-2:]=l', 'O'): -0.061103,\n",
       " ('word[-2:]=l', 'D'): 0.020057,\n",
       " ('word[-2:]=l', 'T'): 0.041046,\n",
       " ('word.pos=VERB', 'O'): -0.040966,\n",
       " ('word.pos=VERB', 'D'): -0.02989,\n",
       " ('word.pos=VERB', 'T'): 0.070856,\n",
       " ('prev_word.lower=a', 'O'): 0.046233,\n",
       " ('prev_word.lower=a', 'D'): -0.025933,\n",
       " ('prev_word.lower=a', 'T'): -0.020299,\n",
       " ('prev_word.isupper=False', 'O'): 0.167427,\n",
       " ('prev_word.isupper=False', 'D'): -0.249575,\n",
       " ('prev_word.isupper=False', 'T'): 0.082148,\n",
       " ('prev_word.isdigit=False', 'O'): 0.049176,\n",
       " ('prev_word.isdigit=False', 'D'): 0.153843,\n",
       " ('prev_word.isdigit=False', 'T'): -0.203019,\n",
       " ('prev_word.startsWithCapital=False', 'O'): 0.167427,\n",
       " ('prev_word.startsWithCapital=False', 'D'): -0.249575,\n",
       " ('prev_word.startsWithCapital=False', 'T'): 0.082148,\n",
       " ('prev_word.pos=DET', 'O'): 0.323682,\n",
       " ('prev_word.pos=DET', 'D'): -0.260001,\n",
       " ('prev_word.pos=DET', 'T'): -0.063681,\n",
       " ('word.pos=NOUN', 'O'): -1.221514,\n",
       " ('word.pos=NOUN', 'D'): 0.538742,\n",
       " ('word.pos=NOUN', 'T'): 0.682772,\n",
       " ('prev_word.lower=l', 'O'): 0.059129,\n",
       " ('prev_word.lower=l', 'D'): 0.171283,\n",
       " ('prev_word.lower=l', 'T'): -0.230412,\n",
       " ('prev_word.pos=VERB', 'O'): -0.129595,\n",
       " ('prev_word.pos=VERB', 'D'): 0.018555,\n",
       " ('prev_word.pos=VERB', 'T'): 0.111039,\n",
       " ('word.lower= ', 'O'): 0.008593,\n",
       " ('word.lower= ', 'D'): -0.050184,\n",
       " ('word.lower= ', 'T'): 0.041591,\n",
       " ('word[-3:]= ', 'O'): 0.008593,\n",
       " ('word[-3:]= ', 'D'): -0.050184,\n",
       " ('word[-3:]= ', 'T'): 0.041591,\n",
       " ('word[-2:]= ', 'O'): 0.008593,\n",
       " ('word[-2:]= ', 'D'): -0.050184,\n",
       " ('word[-2:]= ', 'T'): 0.041591,\n",
       " ('word.pos=X', 'O'): 0.333762,\n",
       " ('word.pos=X', 'D'): -0.261001,\n",
       " ('word.pos=X', 'T'): -0.072761,\n",
       " ('prev_word.pos=NOUN', 'O'): 0.56421,\n",
       " ('prev_word.pos=NOUN', 'D'): -0.108567,\n",
       " ('prev_word.pos=NOUN', 'T'): -0.455643,\n",
       " ('word.pos=CCONJ', 'O'): 0.157774,\n",
       " ('word.pos=CCONJ', 'D'): -0.405756,\n",
       " ('word.pos=CCONJ', 'T'): 0.247982,\n",
       " ('prev_word.lower= ', 'O'): 0.054564,\n",
       " ('prev_word.lower= ', 'D'): 0.012304,\n",
       " ('prev_word.lower= ', 'T'): -0.066868,\n",
       " ('prev_word.pos=X', 'O'): -0.093908,\n",
       " ('prev_word.pos=X', 'D'): 0.099923,\n",
       " ('prev_word.pos=X', 'T'): -0.006015,\n",
       " ('word.lower=i', 'O'): 0.037726,\n",
       " ('word.lower=i', 'D'): -0.063415,\n",
       " ('word.lower=i', 'T'): 0.025689,\n",
       " ('word[-3:]=i', 'O'): 0.037726,\n",
       " ('word[-3:]=i', 'D'): -0.063415,\n",
       " ('word[-3:]=i', 'T'): 0.025689,\n",
       " ('word[-2:]=i', 'O'): 0.037726,\n",
       " ('word[-2:]=i', 'D'): -0.063415,\n",
       " ('word[-2:]=i', 'T'): 0.025689,\n",
       " ('word.pos=PRON', 'O'): 0.155964,\n",
       " ('word.pos=PRON', 'D'): 0.006515,\n",
       " ('word.pos=PRON', 'T'): -0.162479,\n",
       " ('prev_word.pos=CCONJ', 'O'): -0.152088,\n",
       " ('prev_word.pos=CCONJ', 'D'): -0.001915,\n",
       " ('prev_word.pos=CCONJ', 'T'): 0.154003,\n",
       " ('word.lower=v', 'O'): -0.019923,\n",
       " ('word.lower=v', 'D'): 0.08282,\n",
       " ('word.lower=v', 'T'): -0.062897,\n",
       " ('word[-3:]=v', 'O'): -0.019923,\n",
       " ('word[-3:]=v', 'D'): 0.08282,\n",
       " ('word[-3:]=v', 'T'): -0.062897,\n",
       " ('word[-2:]=v', 'O'): -0.019923,\n",
       " ('word[-2:]=v', 'D'): 0.08282,\n",
       " ('word[-2:]=v', 'T'): -0.062897,\n",
       " ('word.pos=NUM', 'O'): 0.503075,\n",
       " ('word.pos=NUM', 'D'): -0.211355,\n",
       " ('word.pos=NUM', 'T'): -0.29172,\n",
       " ('prev_word.lower=i', 'O'): 0.088525,\n",
       " ('prev_word.lower=i', 'D'): -0.082457,\n",
       " ('prev_word.lower=i', 'T'): -0.006068,\n",
       " ('prev_word.pos=PRON', 'O'): 0.032854,\n",
       " ('prev_word.pos=PRON', 'D'): 0.004445,\n",
       " ('prev_word.pos=PRON', 'T'): -0.037299,\n",
       " ('word.lower=e', 'O'): 0.037276,\n",
       " ('word.lower=e', 'D'): -0.043626,\n",
       " ('word.lower=e', 'T'): 0.006351,\n",
       " ('word[-3:]=e', 'O'): 0.037276,\n",
       " ('word[-3:]=e', 'D'): -0.043626,\n",
       " ('word[-3:]=e', 'T'): 0.006351,\n",
       " ('word[-2:]=e', 'O'): 0.037276,\n",
       " ('word[-2:]=e', 'D'): -0.043626,\n",
       " ('word[-2:]=e', 'T'): 0.006351,\n",
       " ('prev_word.lower=v', 'O'): -0.056851,\n",
       " ('prev_word.lower=v', 'D'): -0.449646,\n",
       " ('prev_word.lower=v', 'T'): 0.506496,\n",
       " ('prev_word.pos=NUM', 'O'): 0.331588,\n",
       " ('prev_word.pos=NUM', 'D'): -0.112906,\n",
       " ('prev_word.pos=NUM', 'T'): -0.218682,\n",
       " ('word.pos=ADP', 'O'): 0.886477,\n",
       " ('word.pos=ADP', 'D'): -0.495631,\n",
       " ('word.pos=ADP', 'T'): -0.390846,\n",
       " ('prev_word.lower=e', 'O'): -0.014655,\n",
       " ('prev_word.lower=e', 'D'): -0.058821,\n",
       " ('prev_word.lower=e', 'T'): 0.073476,\n",
       " ('word.lower=b', 'O'): 0.097183,\n",
       " ('word.lower=b', 'D'): -0.016156,\n",
       " ('word.lower=b', 'T'): -0.081027,\n",
       " ('word[-3:]=b', 'O'): 0.097183,\n",
       " ('word[-3:]=b', 'D'): -0.016156,\n",
       " ('word[-3:]=b', 'T'): -0.081027,\n",
       " ('word[-2:]=b', 'O'): 0.097183,\n",
       " ('word[-2:]=b', 'D'): -0.016156,\n",
       " ('word[-2:]=b', 'T'): -0.081027,\n",
       " ('prev_word.pos=ADP', 'O'): -0.827893,\n",
       " ('prev_word.pos=ADP', 'D'): 0.562164,\n",
       " ('prev_word.pos=ADP', 'T'): 0.265729,\n",
       " ('word.pos=PROPN', 'O'): -1.337364,\n",
       " ('word.pos=PROPN', 'D'): 0.769131,\n",
       " ('word.pos=PROPN', 'T'): 0.568233,\n",
       " ('prev_word.lower=b', 'O'): -0.171437,\n",
       " ('prev_word.lower=b', 'D'): 0.176885,\n",
       " ('prev_word.lower=b', 'T'): -0.005448,\n",
       " ('word.lower=r', 'O'): -0.006456,\n",
       " ('word.lower=r', 'D'): -0.053169,\n",
       " ('word.lower=r', 'T'): 0.059625,\n",
       " ('word[-3:]=r', 'O'): -0.006456,\n",
       " ('word[-3:]=r', 'D'): -0.053169,\n",
       " ('word[-3:]=r', 'T'): 0.059625,\n",
       " ('word[-2:]=r', 'O'): -0.006456,\n",
       " ('word[-2:]=r', 'D'): -0.053169,\n",
       " ('word[-2:]=r', 'T'): 0.059625,\n",
       " ('prev_word.pos=PROPN', 'O'): 0.512477,\n",
       " ('prev_word.pos=PROPN', 'D'): -0.195206,\n",
       " ('prev_word.pos=PROPN', 'T'): -0.317271,\n",
       " ('word.lower=t', 'O'): -0.006742,\n",
       " ('word.lower=t', 'D'): -0.016229,\n",
       " ('word.lower=t', 'T'): 0.02297,\n",
       " ('word[-3:]=t', 'O'): -0.006742,\n",
       " ('word[-3:]=t', 'D'): -0.016229,\n",
       " ('word[-3:]=t', 'T'): 0.02297,\n",
       " ('word[-2:]=t', 'O'): -0.006742,\n",
       " ('word[-2:]=t', 'D'): -0.016229,\n",
       " ('word[-2:]=t', 'T'): 0.02297,\n",
       " ('prev_word.lower=r', 'O'): 0.011352,\n",
       " ('prev_word.lower=r', 'D'): 0.219909,\n",
       " ('prev_word.lower=r', 'T'): -0.23126,\n",
       " ('word.lower=h', 'O'): -0.030294,\n",
       " ('word.lower=h', 'D'): -0.018995,\n",
       " ('word.lower=h', 'T'): 0.049289,\n",
       " ('word[-3:]=h', 'O'): -0.030294,\n",
       " ('word[-3:]=h', 'D'): -0.018995,\n",
       " ('word[-3:]=h', 'T'): 0.049289,\n",
       " ('word[-2:]=h', 'O'): -0.030294,\n",
       " ('word[-2:]=h', 'D'): -0.018995,\n",
       " ('word[-2:]=h', 'T'): 0.049289,\n",
       " ('prev_word.lower=t', 'O'): 0.051624,\n",
       " ('prev_word.lower=t', 'D'): 0.007415,\n",
       " ('prev_word.lower=t', 'T'): -0.059039,\n",
       " ('word.lower=s', 'O'): 0.007203,\n",
       " ('word.lower=s', 'D'): -0.000205,\n",
       " ('word.lower=s', 'T'): -0.006998,\n",
       " ('word[-3:]=s', 'O'): 0.007203,\n",
       " ('word[-3:]=s', 'D'): -0.000205,\n",
       " ('word[-3:]=s', 'T'): -0.006998,\n",
       " ('word[-2:]=s', 'O'): 0.007203,\n",
       " ('word[-2:]=s', 'D'): -0.000205,\n",
       " ('word[-2:]=s', 'T'): -0.006998,\n",
       " ('prev_word.lower=h', 'O'): 0.136653,\n",
       " ('prev_word.lower=h', 'D'): -0.079156,\n",
       " ('prev_word.lower=h', 'T'): -0.057498,\n",
       " ('word.pos=PUNCT', 'O'): -0.492729,\n",
       " ('word.pos=PUNCT', 'D'): -0.01708,\n",
       " ('word.pos=PUNCT', 'T'): 0.509809,\n",
       " ('prev_word.lower=s', 'O'): -0.00893,\n",
       " ('prev_word.lower=s', 'D'): -0.022686,\n",
       " ('prev_word.lower=s', 'T'): 0.031616,\n",
       " ('word.lower=>', 'O'): -0.052854,\n",
       " ('word.lower=>', 'D'): 0.081337,\n",
       " ('word.lower=>', 'T'): -0.028483,\n",
       " ('word[-3:]=>', 'O'): -0.052854,\n",
       " ('word[-3:]=>', 'D'): 0.081337,\n",
       " ('word[-3:]=>', 'T'): -0.028483,\n",
       " ('word[-2:]=>', 'O'): -0.052854,\n",
       " ('word[-2:]=>', 'D'): 0.081337,\n",
       " ('word[-2:]=>', 'T'): -0.028483,\n",
       " ('prev_word.pos=PUNCT', 'O'): 0.229062,\n",
       " ('prev_word.pos=PUNCT', 'D'): -0.135461,\n",
       " ('prev_word.pos=PUNCT', 'T'): -0.093602,\n",
       " ('word.pos=SYM', 'O'): 0.073408,\n",
       " ('word.pos=SYM', 'D'): -0.247416,\n",
       " ('word.pos=SYM', 'T'): 0.174008,\n",
       " ('prev_word.lower=>', 'O'): -0.291879,\n",
       " ('prev_word.lower=>', 'D'): 0.277742,\n",
       " ('prev_word.lower=>', 'T'): 0.014137,\n",
       " ('word.lower=o', 'O'): 0.006162,\n",
       " ('word.lower=o', 'D'): -0.024209,\n",
       " ('word.lower=o', 'T'): 0.018047,\n",
       " ('word[-3:]=o', 'O'): 0.006162,\n",
       " ('word[-3:]=o', 'D'): -0.024209,\n",
       " ('word[-3:]=o', 'T'): 0.018047,\n",
       " ('word[-2:]=o', 'O'): 0.006162,\n",
       " ('word[-2:]=o', 'D'): -0.024209,\n",
       " ('word[-2:]=o', 'T'): 0.018047,\n",
       " ('prev_word.pos=SYM', 'O'): 0.222226,\n",
       " ('prev_word.pos=SYM', 'D'): -0.37483,\n",
       " ('prev_word.pos=SYM', 'T'): 0.152604,\n",
       " ('prev_word.lower=o', 'O'): 0.037479,\n",
       " ('prev_word.lower=o', 'D'): 0.034327,\n",
       " ('prev_word.lower=o', 'T'): -0.071806,\n",
       " ('word.pos=AUX', 'O'): 1.14486,\n",
       " ('word.pos=AUX', 'D'): -0.608492,\n",
       " ('word.pos=AUX', 'T'): -0.536368,\n",
       " ('word.lower==', 'O'): 0.017377,\n",
       " ('word[-3:]==', 'O'): 0.017377,\n",
       " ('word[-2:]==', 'O'): 0.017377,\n",
       " ('word.pos=ADV', 'O'): -0.091517,\n",
       " ('word.pos=ADV', 'D'): 0.147293,\n",
       " ('word.pos=ADV', 'T'): -0.055775,\n",
       " ('prev_word.pos=AUX', 'O'): -0.060435,\n",
       " ('prev_word.pos=AUX', 'D'): -0.225755,\n",
       " ('prev_word.pos=AUX', 'T'): 0.28619,\n",
       " ('prev_word.lower==', 'O'): 0.011789,\n",
       " ('prev_word.pos=ADV', 'O'): 0.292207,\n",
       " ('prev_word.pos=ADV', 'D'): -0.225245,\n",
       " ('prev_word.pos=ADV', 'T'): -0.066961,\n",
       " ('word.lower=2', 'O'): 0.07237,\n",
       " ('word.lower=2', 'D'): -0.022009,\n",
       " ('word.lower=2', 'T'): -0.050361,\n",
       " ('word[-3:]=2', 'O'): 0.07237,\n",
       " ('word[-3:]=2', 'D'): -0.022009,\n",
       " ('word[-3:]=2', 'T'): -0.050361,\n",
       " ('word[-2:]=2', 'O'): 0.07237,\n",
       " ('word[-2:]=2', 'D'): -0.022009,\n",
       " ('word[-2:]=2', 'T'): -0.050361,\n",
       " ('word.isdigit=True', 'O'): 0.326646,\n",
       " ('word.isdigit=True', 'D'): -0.01219,\n",
       " ('word.isdigit=True', 'T'): -0.314456,\n",
       " ('word.lower=3', 'O'): -0.094073,\n",
       " ('word.lower=3', 'D'): 0.102636,\n",
       " ('word.lower=3', 'T'): -0.008563,\n",
       " ('word[-3:]=3', 'O'): -0.094073,\n",
       " ('word[-3:]=3', 'D'): 0.102636,\n",
       " ('word[-3:]=3', 'T'): -0.008563,\n",
       " ('word[-2:]=3', 'O'): -0.094073,\n",
       " ('word[-2:]=3', 'D'): 0.102636,\n",
       " ('word[-2:]=3', 'T'): -0.008563,\n",
       " ('prev_word.lower=2', 'O'): 0.268123,\n",
       " ('prev_word.lower=2', 'T'): -0.101197,\n",
       " ('prev_word.isdigit=True', 'O'): 0.118252,\n",
       " ('prev_word.isdigit=True', 'D'): -0.403418,\n",
       " ('prev_word.isdigit=True', 'T'): 0.285167,\n",
       " ('prev_word.lower=3', 'O'): -0.014443,\n",
       " ('prev_word.lower=3', 'D'): -0.00085,\n",
       " ('prev_word.lower=3', 'T'): 0.015292,\n",
       " ('word.lower=w', 'O'): 0.016292,\n",
       " ('word.lower=w', 'D'): -0.067714,\n",
       " ('word.lower=w', 'T'): 0.051422,\n",
       " ('word[-3:]=w', 'O'): 0.016292,\n",
       " ('word[-3:]=w', 'D'): -0.067714,\n",
       " ('word[-3:]=w', 'T'): 0.051422,\n",
       " ('word[-2:]=w', 'O'): 0.016292,\n",
       " ('word[-2:]=w', 'D'): -0.067714,\n",
       " ('word[-2:]=w', 'T'): 0.051422,\n",
       " ('prev_word.lower=w', 'O'): -0.190512,\n",
       " ('prev_word.lower=w', 'D'): 0.136613,\n",
       " ('prev_word.lower=w', 'T'): 0.053899,\n",
       " ('word.lower=k', 'O'): -0.006461,\n",
       " ('word.lower=k', 'D'): -0.004778,\n",
       " ('word.lower=k', 'T'): 0.011239,\n",
       " ('word[-3:]=k', 'O'): -0.006461,\n",
       " ('word[-3:]=k', 'D'): -0.004778,\n",
       " ('word[-3:]=k', 'T'): 0.011239,\n",
       " ('word[-2:]=k', 'O'): -0.006461,\n",
       " ('word[-2:]=k', 'D'): -0.004778,\n",
       " ('word[-2:]=k', 'T'): 0.011239,\n",
       " ('word.pos=ADJ', 'O'): -0.758601,\n",
       " ('word.pos=ADJ', 'D'): 0.581578,\n",
       " ('word.pos=ADJ', 'T'): 0.177024,\n",
       " ('prev_word.lower=k', 'O'): 0.1111,\n",
       " ('prev_word.lower=k', 'D'): -0.089111,\n",
       " ('prev_word.lower=k', 'T'): -0.02199,\n",
       " ('prev_word.pos=ADJ', 'O'): -0.00489,\n",
       " ('prev_word.pos=ADJ', 'D'): 0.116288,\n",
       " ('prev_word.pos=ADJ', 'T'): -0.111398,\n",
       " ('word.lower=u', 'O'): -0.018756,\n",
       " ('word.lower=u', 'D'): -0.036941,\n",
       " ('word.lower=u', 'T'): 0.055696,\n",
       " ('word[-3:]=u', 'O'): -0.018756,\n",
       " ('word[-3:]=u', 'D'): -0.036941,\n",
       " ('word[-3:]=u', 'T'): 0.055696,\n",
       " ('word[-2:]=u', 'O'): -0.018756,\n",
       " ('word[-2:]=u', 'D'): -0.036941,\n",
       " ('word[-2:]=u', 'T'): 0.055696,\n",
       " ('word.lower=n', 'O'): -0.014784,\n",
       " ('word.lower=n', 'D'): 0.007604,\n",
       " ('word.lower=n', 'T'): 0.00718,\n",
       " ('word[-3:]=n', 'O'): -0.014784,\n",
       " ('word[-3:]=n', 'D'): 0.007604,\n",
       " ('word[-3:]=n', 'T'): 0.00718,\n",
       " ('word[-2:]=n', 'O'): -0.014784,\n",
       " ('word[-2:]=n', 'D'): 0.007604,\n",
       " ('word[-2:]=n', 'T'): 0.00718,\n",
       " ('word.pos=PART', 'O'): -0.061659,\n",
       " ('word.pos=PART', 'D'): 0.582888,\n",
       " ('word.pos=PART', 'T'): -0.521229,\n",
       " ('prev_word.lower=u', 'O'): 0.174213,\n",
       " ('prev_word.lower=u', 'D'): 0.126861,\n",
       " ('prev_word.lower=u', 'T'): -0.301074,\n",
       " ('prev_word.lower=n', 'O'): 0.02903,\n",
       " ('prev_word.lower=n', 'D'): -0.146384,\n",
       " ('prev_word.lower=n', 'T'): 0.117354,\n",
       " ('prev_word.pos=PART', 'O'): 0.049289,\n",
       " ('prev_word.pos=PART', 'D'): 0.436769,\n",
       " ('prev_word.pos=PART', 'T'): -0.486058,\n",
       " ('word.lower=c', 'O'): -0.012445,\n",
       " ('word.lower=c', 'D'): 0.009601,\n",
       " ('word.lower=c', 'T'): 0.002844,\n",
       " ('word[-3:]=c', 'O'): -0.012445,\n",
       " ('word[-3:]=c', 'D'): 0.009601,\n",
       " ('word[-3:]=c', 'T'): 0.002844,\n",
       " ('word[-2:]=c', 'O'): -0.012445,\n",
       " ('word[-2:]=c', 'D'): 0.009601,\n",
       " ('word[-2:]=c', 'T'): 0.002844,\n",
       " ('prev_word.lower=c', 'O'): -0.00149,\n",
       " ('prev_word.lower=c', 'D'): -0.008601,\n",
       " ('prev_word.lower=c', 'T'): 0.010091,\n",
       " ('word.lower=m', 'O'): -0.027917,\n",
       " ('word.lower=m', 'D'): -0.047738,\n",
       " ('word.lower=m', 'T'): 0.075655,\n",
       " ('word[-3:]=m', 'O'): -0.027917,\n",
       " ('word[-3:]=m', 'D'): -0.047738,\n",
       " ('word[-3:]=m', 'T'): 0.075655,\n",
       " ('word[-2:]=m', 'O'): -0.027917,\n",
       " ('word[-2:]=m', 'D'): -0.047738,\n",
       " ('word[-2:]=m', 'T'): 0.075655,\n",
       " ('prev_word.lower=m', 'O'): 0.021314,\n",
       " ('prev_word.lower=m', 'D'): 0.066681,\n",
       " ('prev_word.lower=m', 'T'): -0.087994,\n",
       " ('word.lower=p', 'O'): 0.006076,\n",
       " ('word.lower=p', 'D'): -0.033778,\n",
       " ('word.lower=p', 'T'): 0.027702,\n",
       " ('word[-3:]=p', 'O'): 0.006076,\n",
       " ('word[-3:]=p', 'D'): -0.033778,\n",
       " ('word[-3:]=p', 'T'): 0.027702,\n",
       " ('word[-2:]=p', 'O'): 0.006076,\n",
       " ('word[-2:]=p', 'D'): -0.033778,\n",
       " ('word[-2:]=p', 'T'): 0.027702,\n",
       " ('prev_word.lower=p', 'O'): -0.143813,\n",
       " ('prev_word.lower=p', 'D'): 0.023513,\n",
       " ('prev_word.lower=p', 'T'): 0.120301,\n",
       " ('word.lower=`', 'O'): 0.025932,\n",
       " ('word.lower=`', 'D'): 0.022104,\n",
       " ('word.lower=`', 'T'): -0.048036,\n",
       " ('word[-3:]=`', 'O'): 0.025932,\n",
       " ('word[-3:]=`', 'D'): 0.022104,\n",
       " ('word[-3:]=`', 'T'): -0.048036,\n",
       " ('word[-2:]=`', 'O'): 0.025932,\n",
       " ('word[-2:]=`', 'D'): 0.022104,\n",
       " ('word[-2:]=`', 'T'): -0.048036,\n",
       " ('prev_word.lower=`', 'O'): 0.00979,\n",
       " ('prev_word.lower=`', 'D'): 0.108846,\n",
       " ('word.lower=d', 'O'): -0.006606,\n",
       " ('word.lower=d', 'D'): -0.002426,\n",
       " ('word.lower=d', 'T'): 0.009032,\n",
       " ('word[-3:]=d', 'O'): -0.006606,\n",
       " ('word[-3:]=d', 'D'): -0.002426,\n",
       " ('word[-3:]=d', 'T'): 0.009032,\n",
       " ('word[-2:]=d', 'O'): -0.006606,\n",
       " ('word[-2:]=d', 'D'): -0.002426,\n",
       " ('word[-2:]=d', 'T'): 0.009032,\n",
       " ('prev_word.lower=d', 'O'): -0.020151,\n",
       " ('prev_word.lower=d', 'D'): -0.063779,\n",
       " ('prev_word.lower=d', 'T'): 0.08393,\n",
       " (\"word.lower='\", 'O'): 0.194681,\n",
       " (\"word[-3:]='\", 'O'): 0.194681,\n",
       " (\"word[-2:]='\", 'O'): 0.194681,\n",
       " (\"prev_word.lower='\", 'O'): 0.081005,\n",
       " (\"prev_word.lower='\", 'D'): -0.005861,\n",
       " ('word.lower=(', 'O'): 0.014277,\n",
       " ('word.lower=(', 'D'): -0.05111,\n",
       " ('word.lower=(', 'T'): 0.036832,\n",
       " ('word[-3:]=(', 'O'): 0.014277,\n",
       " ('word[-3:]=(', 'D'): -0.05111,\n",
       " ('word[-3:]=(', 'T'): 0.036832,\n",
       " ('word[-2:]=(', 'O'): 0.014277,\n",
       " ('word[-2:]=(', 'D'): -0.05111,\n",
       " ('word[-2:]=(', 'T'): 0.036832,\n",
       " ('prev_word.lower=(', 'O'): -0.026749,\n",
       " ('prev_word.lower=(', 'D'): 0.228451,\n",
       " ('prev_word.lower=(', 'T'): -0.201702,\n",
       " ('word.lower=f', 'O'): -0.049145,\n",
       " ('word.lower=f', 'D'): -0.032911,\n",
       " ('word.lower=f', 'T'): 0.082055,\n",
       " ('word[-3:]=f', 'O'): -0.049145,\n",
       " ('word[-3:]=f', 'D'): -0.032911,\n",
       " ('word[-3:]=f', 'T'): 0.082055,\n",
       " ('word[-2:]=f', 'O'): -0.049145,\n",
       " ('word[-2:]=f', 'D'): -0.032911,\n",
       " ('word[-2:]=f', 'T'): 0.082055,\n",
       " ('prev_word.lower=f', 'O'): 0.096515,\n",
       " ('prev_word.lower=f', 'D'): 0.044128,\n",
       " ('prev_word.lower=f', 'T'): -0.140643,\n",
       " ('word.pos=SCONJ', 'O'): 1.03899,\n",
       " ('word.pos=SCONJ', 'T'): -0.38207,\n",
       " ('prev_word.pos=SCONJ', 'O'): -0.949892,\n",
       " ('prev_word.pos=SCONJ', 'D'): 0.044615,\n",
       " ('prev_word.pos=SCONJ', 'T'): 0.905277,\n",
       " ('word.lower=y', 'O'): 0.009461,\n",
       " ('word.lower=y', 'D'): 0.01926,\n",
       " ('word.lower=y', 'T'): -0.02872,\n",
       " ('word[-3:]=y', 'O'): 0.009461,\n",
       " ('word[-3:]=y', 'D'): 0.01926,\n",
       " ('word[-3:]=y', 'T'): -0.02872,\n",
       " ('word[-2:]=y', 'O'): 0.009461,\n",
       " ('word[-2:]=y', 'D'): 0.01926,\n",
       " ('word[-2:]=y', 'T'): -0.02872,\n",
       " ('prev_word.lower=y', 'O'): 0.094868,\n",
       " ('prev_word.lower=y', 'D'): 0.034637,\n",
       " ('prev_word.lower=y', 'T'): -0.129505,\n",
       " ('word.lower=z', 'O'): -0.163368,\n",
       " ('word.lower=z', 'D'): -0.120066,\n",
       " ('word.lower=z', 'T'): 0.283433,\n",
       " ('word[-3:]=z', 'O'): -0.163368,\n",
       " ('word[-3:]=z', 'D'): -0.120066,\n",
       " ('word[-3:]=z', 'T'): 0.283433,\n",
       " ('word[-2:]=z', 'O'): -0.163368,\n",
       " ('word[-2:]=z', 'D'): -0.120066,\n",
       " ('word[-2:]=z', 'T'): 0.283433,\n",
       " ('prev_word.lower=z', 'O'): -0.100196,\n",
       " ('prev_word.lower=z', 'D'): -0.106073,\n",
       " ('prev_word.lower=z', 'T'): 0.20627,\n",
       " ('word.lower=j', 'O'): 0.231448,\n",
       " ('word.lower=j', 'D'): -0.014317,\n",
       " ('word[-3:]=j', 'O'): 0.231448,\n",
       " ('word[-3:]=j', 'D'): -0.014317,\n",
       " ('word[-2:]=j', 'O'): 0.231448,\n",
       " ('word[-2:]=j', 'D'): -0.014317,\n",
       " ('prev_word.lower=j', 'O'): 0.226887,\n",
       " ('prev_word.lower=j', 'D'): -0.021831,\n",
       " ('word.lower=1', 'O'): 0.106573,\n",
       " ('word.lower=1', 'D'): 0.011735,\n",
       " ('word.lower=1', 'T'): -0.118308,\n",
       " ('word[-3:]=1', 'O'): 0.106573,\n",
       " ('word[-3:]=1', 'D'): 0.011735,\n",
       " ('word[-3:]=1', 'T'): -0.118308,\n",
       " ('word[-2:]=1', 'O'): 0.106573,\n",
       " ('word[-2:]=1', 'D'): 0.011735,\n",
       " ('word[-2:]=1', 'T'): -0.118308,\n",
       " ('prev_word.lower=1', 'O'): -0.062496,\n",
       " ('prev_word.lower=1', 'D'): 0.092734,\n",
       " ('prev_word.lower=1', 'T'): -0.030238,\n",
       " ('word.lower=g', 'O'): -0.018303,\n",
       " ('word.lower=g', 'D'): 0.031437,\n",
       " ('word.lower=g', 'T'): -0.013135,\n",
       " ('word[-3:]=g', 'O'): -0.018303,\n",
       " ('word[-3:]=g', 'D'): 0.031437,\n",
       " ('word[-3:]=g', 'T'): -0.013135,\n",
       " ('word[-2:]=g', 'O'): -0.018303,\n",
       " ('word[-2:]=g', 'D'): 0.031437,\n",
       " ('word[-2:]=g', 'T'): -0.013135,\n",
       " ('prev_word.lower=g', 'O'): -0.126247,\n",
       " ('prev_word.lower=g', 'D'): -0.090776,\n",
       " ('prev_word.lower=g', 'T'): 0.217023,\n",
       " ('word.lower=6', 'O'): 0.068289,\n",
       " ('word.lower=6', 'T'): 0.022203,\n",
       " ('word[-3:]=6', 'O'): 0.068289,\n",
       " ('word[-3:]=6', 'T'): 0.022203,\n",
       " ('word[-2:]=6', 'O'): 0.068289,\n",
       " ('word[-2:]=6', 'T'): 0.022203,\n",
       " ('prev_word.lower=6', 'O'): -0.137426,\n",
       " ('prev_word.lower=6', 'T'): 0.205743,\n",
       " ('word.lower=,', 'O'): 0.09842,\n",
       " ('word.lower=,', 'D'): 0.146097,\n",
       " ('word.lower=,', 'T'): -0.244517,\n",
       " ('word[-3:]=,', 'O'): 0.09842,\n",
       " ('word[-3:]=,', 'D'): 0.146097,\n",
       " ('word[-3:]=,', 'T'): -0.244517,\n",
       " ('word[-2:]=,', 'O'): 0.09842,\n",
       " ('word[-2:]=,', 'D'): 0.146097,\n",
       " ('word[-2:]=,', 'T'): -0.244517,\n",
       " ('prev_word.lower=,', 'O'): 0.043729,\n",
       " ('prev_word.lower=,', 'D'): -0.041888,\n",
       " ('prev_word.lower=,', 'T'): -0.001842,\n",
       " ('word.lower=9', 'O'): -0.014469,\n",
       " ('word.lower=9', 'D'): -0.031527,\n",
       " ('word.lower=9', 'T'): 0.045995,\n",
       " ('word[-3:]=9', 'O'): -0.014469,\n",
       " ('word[-3:]=9', 'D'): -0.031527,\n",
       " ('word[-3:]=9', 'T'): 0.045995,\n",
       " ('word[-2:]=9', 'O'): -0.014469,\n",
       " ('word[-2:]=9', 'D'): -0.031527,\n",
       " ('word[-2:]=9', 'T'): 0.045995,\n",
       " ('prev_word.lower=9', 'O'): -0.010936,\n",
       " ('prev_word.lower=9', 'T'): 0.169157,\n",
       " ('word.lower=-', 'O'): -0.013135,\n",
       " ('word.lower=-', 'D'): -0.087124,\n",
       " ('word.lower=-', 'T'): 0.100259,\n",
       " ('word[-3:]=-', 'O'): -0.013135,\n",
       " ('word[-3:]=-', 'D'): -0.087124,\n",
       " ('word[-3:]=-', 'T'): 0.100259,\n",
       " ('word[-2:]=-', 'O'): -0.013135,\n",
       " ('word[-2:]=-', 'D'): -0.087124,\n",
       " ('word[-2:]=-', 'T'): 0.100259,\n",
       " ('prev_word.lower=-', 'O'): -0.0704,\n",
       " ('prev_word.lower=-', 'D'): -0.036965,\n",
       " ('prev_word.lower=-', 'T'): 0.107365,\n",
       " ('word.lower=4', 'O'): 0.033324,\n",
       " ('word.lower=4', 'D'): 0.011302,\n",
       " ('word.lower=4', 'T'): -0.044625,\n",
       " ('word[-3:]=4', 'O'): 0.033324,\n",
       " ('word[-3:]=4', 'D'): 0.011302,\n",
       " ('word[-3:]=4', 'T'): -0.044625,\n",
       " ('word[-2:]=4', 'O'): 0.033324,\n",
       " ('word[-2:]=4', 'D'): 0.011302,\n",
       " ('word[-2:]=4', 'T'): -0.044625,\n",
       " ('prev_word.lower=4', 'O'): 0.066188,\n",
       " ('prev_word.lower=4', 'T'): -0.022638,\n",
       " ('word.lower=8', 'O'): 0.074615,\n",
       " ('word.lower=8', 'D'): -0.015677,\n",
       " ('word.lower=8', 'T'): -0.058938,\n",
       " ('word[-3:]=8', 'O'): 0.074615,\n",
       " ('word[-3:]=8', 'D'): -0.015677,\n",
       " ('word[-3:]=8', 'T'): -0.058938,\n",
       " ('word[-2:]=8', 'O'): 0.074615,\n",
       " ('word[-2:]=8', 'D'): -0.015677,\n",
       " ('word[-2:]=8', 'T'): -0.058938,\n",
       " ('word.lower=0', 'O'): -0.001367,\n",
       " ('word.lower=0', 'D'): 0.018704,\n",
       " ('word.lower=0', 'T'): -0.017337,\n",
       " ('word[-3:]=0', 'O'): -0.001367,\n",
       " ('word[-3:]=0', 'D'): 0.018704,\n",
       " ('word[-3:]=0', 'T'): -0.017337,\n",
       " ('word[-2:]=0', 'O'): -0.001367,\n",
       " ('word[-2:]=0', 'D'): 0.018704,\n",
       " ('word[-2:]=0', 'T'): -0.017337,\n",
       " ('prev_word.lower=0', 'O'): -0.184193,\n",
       " ('prev_word.lower=0', 'D'): 0.194691,\n",
       " ('prev_word.lower=0', 'T'): -0.010499,\n",
       " ('word.lower=7', 'O'): -0.006988,\n",
       " ('word.lower=7', 'D'): 0.038544,\n",
       " ('word.lower=7', 'T'): -0.031556,\n",
       " ('word[-3:]=7', 'O'): -0.006988,\n",
       " ('word[-3:]=7', 'D'): 0.038544,\n",
       " ('word[-3:]=7', 'T'): -0.031556,\n",
       " ('word[-2:]=7', 'O'): -0.006988,\n",
       " ('word[-2:]=7', 'D'): 0.038544,\n",
       " ('word[-2:]=7', 'T'): -0.031556,\n",
       " ('prev_word.lower=7', 'O'): -0.043683,\n",
       " ('prev_word.lower=7', 'D'): -0.02745,\n",
       " ('prev_word.lower=7', 'T'): 0.071133,\n",
       " ('word.lower=%', 'O'): 0.048104,\n",
       " ('word.lower=%', 'D'): 0.02521,\n",
       " ('word[-3:]=%', 'O'): 0.048104,\n",
       " ('word[-3:]=%', 'D'): 0.02521,\n",
       " ('word[-2:]=%', 'O'): 0.048104,\n",
       " ('word[-2:]=%', 'D'): 0.02521,\n",
       " ('prev_word.lower=%', 'O'): 0.030809,\n",
       " ('prev_word.lower=%', 'T'): 0.023483,\n",
       " ('word.lower=)', 'O'): 0.235871,\n",
       " ('word.lower=)', 'D'): -0.043873,\n",
       " ('word[-3:]=)', 'O'): 0.235871,\n",
       " ('word[-3:]=)', 'D'): -0.043873,\n",
       " ('word[-2:]=)', 'O'): 0.235871,\n",
       " ('word[-2:]=)', 'D'): -0.043873,\n",
       " ('prev_word.lower=)', 'O'): 0.274459,\n",
       " ('word.lower=.', 'O'): 0.0715,\n",
       " ('word[-3:]=.', 'O'): 0.0715,\n",
       " ('word[-2:]=.', 'O'): 0.0715,\n",
       " ('prev_word.lower=.', 'O'): 0.044384,\n",
       " ('word.lower=x', 'O'): -0.134359,\n",
       " ('word.lower=x', 'D'): 0.107227,\n",
       " ('word.lower=x', 'T'): 0.027133,\n",
       " ('word[-3:]=x', 'O'): -0.134359,\n",
       " ('word[-3:]=x', 'D'): 0.107227,\n",
       " ('word[-3:]=x', 'T'): 0.027133,\n",
       " ('word[-2:]=x', 'O'): -0.134359,\n",
       " ('word[-2:]=x', 'D'): 0.107227,\n",
       " ('word[-2:]=x', 'T'): 0.027133,\n",
       " ('prev_word.lower=x', 'O'): 0.196742,\n",
       " ('prev_word.lower=x', 'D'): -0.117212,\n",
       " ('prev_word.lower=x', 'T'): -0.07953,\n",
       " ('word.lower=:', 'O'): 0.040889,\n",
       " ('word.lower=:', 'D'): -0.048476,\n",
       " ('word.lower=:', 'T'): 0.007587,\n",
       " ('word[-3:]=:', 'O'): 0.040889,\n",
       " ('word[-3:]=:', 'D'): -0.048476,\n",
       " ('word[-3:]=:', 'T'): 0.007587,\n",
       " ('word[-2:]=:', 'O'): 0.040889,\n",
       " ('word[-2:]=:', 'D'): -0.048476,\n",
       " ('word[-2:]=:', 'T'): 0.007587,\n",
       " ('prev_word.lower=:', 'O'): -0.539576,\n",
       " ('prev_word.lower=:', 'D'): 0.245906,\n",
       " ('prev_word.lower=:', 'T'): 0.29367,\n",
       " ('prev_word.lower=8', 'O'): 0.029465,\n",
       " ('prev_word.lower=8', 'T'): 0.097196,\n",
       " ('word.lower=5', 'O'): 0.088371,\n",
       " ('word.lower=5', 'D'): -0.035405,\n",
       " ('word.lower=5', 'T'): -0.052966,\n",
       " ('word[-3:]=5', 'O'): 0.088371,\n",
       " ('word[-3:]=5', 'D'): -0.035405,\n",
       " ('word[-3:]=5', 'T'): -0.052966,\n",
       " ('word[-2:]=5', 'O'): 0.088371,\n",
       " ('word[-2:]=5', 'D'): -0.035405,\n",
       " ('word[-2:]=5', 'T'): -0.052966,\n",
       " ('word.pos=INTJ', 'O'): -0.273983,\n",
       " ('word.pos=INTJ', 'D'): 0.206163,\n",
       " ('word.pos=INTJ', 'T'): 0.067819,\n",
       " ('prev_word.lower=5', 'O'): 0.207652,\n",
       " ('prev_word.lower=5', 'T'): -0.108782,\n",
       " ('prev_word.pos=INTJ', 'O'): -0.171467,\n",
       " ('prev_word.pos=INTJ', 'D'): 0.107553,\n",
       " ('prev_word.pos=INTJ', 'T'): 0.063914,\n",
       " ('word.lower=<', 'O'): 0.174304,\n",
       " ('word[-3:]=<', 'O'): 0.174304,\n",
       " ('word[-2:]=<', 'O'): 0.174304,\n",
       " ('prev_word.lower=<', 'O'): 0.218549,\n",
       " ('word.lower=_', 'O'): -0.306691,\n",
       " ('word.lower=_', 'D'): 0.265817,\n",
       " ('word.lower=_', 'T'): 0.040874,\n",
       " ('word[-3:]=_', 'O'): -0.306691,\n",
       " ('word[-3:]=_', 'D'): 0.265817,\n",
       " ('word[-3:]=_', 'T'): 0.040874,\n",
       " ('word[-2:]=_', 'O'): -0.306691,\n",
       " ('word[-2:]=_', 'D'): 0.265817,\n",
       " ('word[-2:]=_', 'T'): 0.040874,\n",
       " ('prev_word.lower=_', 'O'): -0.429513,\n",
       " ('prev_word.lower=_', 'D'): 0.066819,\n",
       " ('prev_word.lower=_', 'T'): 0.362695,\n",
       " ('word.lower=/', 'O'): -0.076786,\n",
       " ('word.lower=/', 'D'): -0.027057,\n",
       " ('word.lower=/', 'T'): 0.103843,\n",
       " ('word[-3:]=/', 'O'): -0.076786,\n",
       " ('word[-3:]=/', 'D'): -0.027057,\n",
       " ('word[-3:]=/', 'T'): 0.103843,\n",
       " ('word[-2:]=/', 'O'): -0.076786,\n",
       " ('word[-2:]=/', 'D'): -0.027057,\n",
       " ('word[-2:]=/', 'T'): 0.103843,\n",
       " ('prev_word.lower=/', 'O'): -0.219353,\n",
       " ('prev_word.lower=/', 'D'): 0.101891,\n",
       " ('prev_word.lower=/', 'T'): 0.117462,\n",
       " ('word.lower=q', 'O'): 0.039381,\n",
       " ('word.lower=q', 'D'): -0.052835,\n",
       " ('word.lower=q', 'T'): 0.013454,\n",
       " ('word[-3:]=q', 'O'): 0.039381,\n",
       " ('word[-3:]=q', 'D'): -0.052835,\n",
       " ('word[-3:]=q', 'T'): 0.013454,\n",
       " ('word[-2:]=q', 'O'): 0.039381,\n",
       " ('word[-2:]=q', 'D'): -0.052835,\n",
       " ('word[-2:]=q', 'T'): 0.013454,\n",
       " ('prev_word.lower=q', 'O'): 0.16129,\n",
       " ('prev_word.lower=q', 'D'): -0.144085,\n",
       " ('prev_word.lower=q', 'T'): -0.017205,\n",
       " ('word.lower=+', 'O'): -0.067326,\n",
       " ('word.lower=+', 'D'): 0.081487,\n",
       " ('word[-3:]=+', 'O'): -0.067326,\n",
       " ('word[-3:]=+', 'D'): 0.081487,\n",
       " ('word[-2:]=+', 'O'): -0.067326,\n",
       " ('word[-2:]=+', 'D'): 0.081487,\n",
       " ('prev_word.lower=+', 'O'): 0.049301,\n",
       " ('word.lower=;', 'O'): 0.021353,\n",
       " ('word[-3:]=;', 'O'): 0.021353,\n",
       " ('word[-2:]=;', 'O'): 0.021353,\n",
       " ('prev_word.lower=;', 'O'): 0.01457,\n",
       " ('END', 'O'): 0.060468,\n",
       " ('word.lower=&', 'O'): 0.021851,\n",
       " ('word[-3:]=&', 'O'): 0.021851,\n",
       " ('word[-2:]=&', 'O'): 0.021851,\n",
       " ('prev_word.lower=&', 'O'): 0.025023,\n",
       " ('word.lower=#', 'O'): 0.021825,\n",
       " ('word[-3:]=#', 'O'): 0.021825,\n",
       " ('word[-2:]=#', 'O'): 0.021825,\n",
       " ('prev_word.lower=#', 'O'): 0.022766,\n",
       " ('word.lower=$', 'O'): 0.005226,\n",
       " ('word[-3:]=$', 'O'): 0.005226,\n",
       " ('word[-2:]=$', 'O'): 0.005226,\n",
       " ('prev_word.lower=$', 'O'): 0.003597,\n",
       " ('word.lower=ã', 'O'): 0.018103,\n",
       " ('word[-3:]=ã', 'O'): 0.018103,\n",
       " ('word[-2:]=ã', 'O'): 0.018103,\n",
       " ('word.lower=ƒ', 'O'): 0.007756,\n",
       " ('word[-3:]=ƒ', 'O'): 0.007756,\n",
       " ('word[-2:]=ƒ', 'O'): 0.007756,\n",
       " ('prev_word.lower=ã', 'O'): 0.007756,\n",
       " ('prev_word.lower=ƒ', 'O'): 0.003645,\n",
       " ('word.lower=?', 'O'): 0.009606,\n",
       " ('word[-3:]=?', 'O'): 0.009606,\n",
       " ('word[-2:]=?', 'O'): 0.009606,\n",
       " ('prev_word.lower=?', 'O'): 0.022237}"
      ]
     },
     "execution_count": 31,
     "metadata": {},
     "output_type": "execute_result"
    }
   ],
   "source": [
    "crf.state_features_"
   ]
  },
  {
   "cell_type": "code",
   "execution_count": null,
   "id": "32215bf0-b517-440f-b111-b0ee2ec62401",
   "metadata": {},
   "outputs": [],
   "source": []
  },
  {
   "cell_type": "code",
   "execution_count": 32,
   "id": "2ae081e1-9691-49e3-9a26-7bfdcf6e8328",
   "metadata": {},
   "outputs": [],
   "source": [
    "X_test = [features_for_sentence(sentence) for sentence in test_sentences]\n",
    "Y_test = [labels_for_sentence(labels) for labels in test_labels]"
   ]
  },
  {
   "cell_type": "code",
   "execution_count": 33,
   "id": "c43300d7-7c99-421c-918e-787acb30dde8",
   "metadata": {
    "scrolled": true
   },
   "outputs": [],
   "source": [
    "y_pred = crf.predict(X_test)"
   ]
  },
  {
   "cell_type": "code",
   "execution_count": 34,
   "id": "642c83b4-ba55-448d-a396-eeb66c6a8c78",
   "metadata": {},
   "outputs": [],
   "source": [
    "pred_label=[]\n",
    "for index, i in enumerate(y_pred):\n",
    "    pred_label.extend(i)\n",
    "    if 'T' in i:\n",
    "        print(index)"
   ]
  },
  {
   "cell_type": "code",
   "execution_count": null,
   "id": "be5a31a7-a40d-436e-b7b1-0ec7ff730963",
   "metadata": {},
   "outputs": [],
   "source": []
  },
  {
   "cell_type": "markdown",
   "id": "563de4e2-d511-4fdc-a9ec-af5d9cabf417",
   "metadata": {},
   "source": [
    "### Task: 07: Calculate the F1 score"
   ]
  },
  {
   "cell_type": "code",
   "execution_count": 35,
   "id": "62d9a28b-85a6-4569-a45f-2c725cf4327f",
   "metadata": {},
   "outputs": [
    {
     "data": {
      "text/plain": [
       "0.806645227359197"
      ]
     },
     "execution_count": 35,
     "metadata": {},
     "output_type": "execute_result"
    }
   ],
   "source": [
    "metrics.flat_f1_score(Y_test, y_pred, average='weighted')"
   ]
  },
  {
   "cell_type": "code",
   "execution_count": 36,
   "id": "79390592-f0db-4f0d-ba8f-aef55afefbcc",
   "metadata": {},
   "outputs": [
    {
     "name": "stdout",
     "output_type": "stream",
     "text": [
      "1056 1056\n"
     ]
    }
   ],
   "source": [
    "print(len(y_pred), len(test_sentences))"
   ]
  },
  {
   "cell_type": "code",
   "execution_count": 37,
   "id": "fe04d81a-1ce0-4a05-8f56-5ed6af46f61f",
   "metadata": {
    "scrolled": true
   },
   "outputs": [
    {
     "data": {
      "text/html": [
       "<div>\n",
       "<style scoped>\n",
       "    .dataframe tbody tr th:only-of-type {\n",
       "        vertical-align: middle;\n",
       "    }\n",
       "\n",
       "    .dataframe tbody tr th {\n",
       "        vertical-align: top;\n",
       "    }\n",
       "\n",
       "    .dataframe thead th {\n",
       "        text-align: right;\n",
       "    }\n",
       "</style>\n",
       "<table border=\"1\" class=\"dataframe\">\n",
       "  <thead>\n",
       "    <tr style=\"text-align: right;\">\n",
       "      <th></th>\n",
       "      <th>Predicted</th>\n",
       "      <th>Sentence</th>\n",
       "    </tr>\n",
       "  </thead>\n",
       "  <tbody>\n",
       "    <tr>\n",
       "      <th>0</th>\n",
       "      <td>O</td>\n",
       "      <td>these</td>\n",
       "    </tr>\n",
       "    <tr>\n",
       "      <th>1</th>\n",
       "      <td>O</td>\n",
       "      <td>initial</td>\n",
       "    </tr>\n",
       "    <tr>\n",
       "      <th>2</th>\n",
       "      <td>O</td>\n",
       "      <td>observations</td>\n",
       "    </tr>\n",
       "    <tr>\n",
       "      <th>3</th>\n",
       "      <td>O</td>\n",
       "      <td>are</td>\n",
       "    </tr>\n",
       "    <tr>\n",
       "      <th>4</th>\n",
       "      <td>O</td>\n",
       "      <td>an</td>\n",
       "    </tr>\n",
       "    <tr>\n",
       "      <th>5</th>\n",
       "      <td>O</td>\n",
       "      <td>encouraging</td>\n",
       "    </tr>\n",
       "    <tr>\n",
       "      <th>6</th>\n",
       "      <td>O</td>\n",
       "      <td>step</td>\n",
       "    </tr>\n",
       "    <tr>\n",
       "      <th>7</th>\n",
       "      <td>O</td>\n",
       "      <td>toward</td>\n",
       "    </tr>\n",
       "    <tr>\n",
       "      <th>8</th>\n",
       "      <td>O</td>\n",
       "      <td>the</td>\n",
       "    </tr>\n",
       "    <tr>\n",
       "      <th>9</th>\n",
       "      <td>O</td>\n",
       "      <td>description</td>\n",
       "    </tr>\n",
       "    <tr>\n",
       "      <th>10</th>\n",
       "      <td>O</td>\n",
       "      <td>of</td>\n",
       "    </tr>\n",
       "    <tr>\n",
       "      <th>11</th>\n",
       "      <td>D</td>\n",
       "      <td>non-hla</td>\n",
       "    </tr>\n",
       "    <tr>\n",
       "      <th>12</th>\n",
       "      <td>D</td>\n",
       "      <td>genetic</td>\n",
       "    </tr>\n",
       "    <tr>\n",
       "      <th>13</th>\n",
       "      <td>D</td>\n",
       "      <td>susceptibility</td>\n",
       "    </tr>\n",
       "    <tr>\n",
       "      <th>14</th>\n",
       "      <td>D</td>\n",
       "      <td>to</td>\n",
       "    </tr>\n",
       "    <tr>\n",
       "      <th>15</th>\n",
       "      <td>D</td>\n",
       "      <td>ms</td>\n",
       "    </tr>\n",
       "  </tbody>\n",
       "</table>\n",
       "</div>"
      ],
      "text/plain": [
       "   Predicted        Sentence\n",
       "0          O           these\n",
       "1          O         initial\n",
       "2          O    observations\n",
       "3          O             are\n",
       "4          O              an\n",
       "5          O     encouraging\n",
       "6          O            step\n",
       "7          O          toward\n",
       "8          O             the\n",
       "9          O     description\n",
       "10         O              of\n",
       "11         D         non-hla\n",
       "12         D         genetic\n",
       "13         D  susceptibility\n",
       "14         D              to\n",
       "15         D              ms"
      ]
     },
     "execution_count": 37,
     "metadata": {},
     "output_type": "execute_result"
    }
   ],
   "source": [
    "pd.DataFrame({'Predicted': y_pred[45], 'Sentence': test_sentences[45].split()})"
   ]
  },
  {
   "cell_type": "markdown",
   "id": "654aabfc-f528-49d2-8a17-96889af19eab",
   "metadata": {},
   "source": [
    "### Task-08: Get all predicted Treatment labels\n",
    "***and corresponding to each Disease label D in the test Dataaset***"
   ]
  },
  {
   "cell_type": "code",
   "execution_count": null,
   "id": "60449f93-ce00-4c9e-ab25-d3cf2c3524c5",
   "metadata": {},
   "outputs": [],
   "source": []
  },
  {
   "cell_type": "code",
   "execution_count": 38,
   "id": "5036578b-62fa-4f52-9d33-9bcddc82d95d",
   "metadata": {},
   "outputs": [],
   "source": [
    "predicted_data = pd.DataFrame(columns=['Predicted'])"
   ]
  },
  {
   "cell_type": "code",
   "execution_count": 39,
   "id": "5be4327a-9ba2-48a3-903b-c6e214c11948",
   "metadata": {},
   "outputs": [],
   "source": [
    "for pred_labels in y_pred:\n",
    "    predicted_data = pd.concat([predicted_data, pd.DataFrame({'Predicted': pred_labels})], axis=0)"
   ]
  },
  {
   "cell_type": "code",
   "execution_count": 40,
   "id": "b411780a-7d0b-4cf5-9a22-5e34dc0e41a4",
   "metadata": {},
   "outputs": [],
   "source": [
    "overall_response = {}"
   ]
  },
  {
   "cell_type": "code",
   "execution_count": 41,
   "id": "a95aca66-02ca-4449-a94a-8cd8bd15161d",
   "metadata": {},
   "outputs": [],
   "source": [
    "for sent_index in range(len(y_pred)):\n",
    "    current_disease = ''\n",
    "    current_treatment = ''\n",
    "    for label_index in range(len(y_pred[sent_index])):\n",
    "        label = y_pred[sent_index][label_index]\n",
    "        if label=='D':\n",
    "            current_disease += test_sentences[sent_index].split()[label_index] + ' '\n",
    "            #print('>>D:', current_disease)\n",
    "        elif label=='T':\n",
    "            current_treatment += test_sentences[sent_index].split()[label_index] + ' '\n",
    "            #print('>>T:', current_treatment)\n",
    "\n",
    "    current_disease = current_disease.strip()\n",
    "    current_treatment = current_treatment.strip()\n",
    "\n",
    "    if (len(current_disease) == 0 | len(current_treatment) == 0) :\n",
    "        continue\n",
    "    #print('>>D:', current_disease)\n",
    "    #print('>>T:', current_treatment)\n",
    "    #print('Disease Exists:', (current_disease in overall_response))\n",
    "    #print('Disease:', overall_response[current_disease] )\n",
    "    if current_disease in overall_response:\n",
    "        overall_response[current_disease].append(current_treatment)\n",
    "        #print(overall_response)\n",
    "    else:\n",
    "        overall_response[current_disease] = [current_treatment]\n",
    "        #print(overall_response)"
   ]
  },
  {
   "cell_type": "code",
   "execution_count": 42,
   "id": "cc83dfe5-c77e-409c-83be-4b615c618f9e",
   "metadata": {},
   "outputs": [
    {
     "data": {
      "text/plain": [
       "{'nonhereditary cases': [''],\n",
       " 'non-hla genetic susceptibility to ms': [''],\n",
       " 'non-pregnant women were made': [''],\n",
       " 'intermediate hosts': [''],\n",
       " 'female stress urinary incontinence': [''],\n",
       " 'patients with non-obstructive azoospermia , tefna': [''],\n",
       " 'araneus diadematus cl': [''],\n",
       " 'congenital adrenal hyperplasia': [''],\n",
       " 'ml ) cells': [''],\n",
       " 'coronary angioplasty': [''],\n",
       " 'british dental surveys': [''],\n",
       " 'malignant soft tissue sarcomas': [''],\n",
       " 'bilateral cortical lesions': [''],\n",
       " 'recovery after thrombolysis': [''],\n",
       " 'early bos': [''],\n",
       " 'spinal adhesive arachnoiditis': [''],\n",
       " 'primary uveal melanoma': [''],\n",
       " 'atrial fibrillation': [''],\n",
       " 'temporomandibular joint arthropathy': [''],\n",
       " 'severe secondary peritonitis': ['']}"
      ]
     },
     "execution_count": 42,
     "metadata": {},
     "output_type": "execute_result"
    }
   ],
   "source": [
    "overall_response"
   ]
  },
  {
   "cell_type": "code",
   "execution_count": null,
   "id": "42a4438d-77e7-463e-b363-d2cbc8fd7091",
   "metadata": {},
   "outputs": [],
   "source": []
  },
  {
   "cell_type": "markdown",
   "id": "337380c4-4151-4149-b66d-c5082c95878b",
   "metadata": {
    "scrolled": true
   },
   "source": [
    "k = pd.concat([test_data, predicted_data], axis=0)"
   ]
  },
  {
   "cell_type": "markdown",
   "id": "7b5c7f11-e80d-46e0-9427-cf876e732cef",
   "metadata": {},
   "source": [
    "test_data.sent.max()"
   ]
  },
  {
   "cell_type": "markdown",
   "id": "85bd64f2-193c-45dc-ba80-3b47cfcdd9df",
   "metadata": {},
   "source": [
    "t = 0\n",
    "for d in Y_test:\n",
    "    t += len(d)\n",
    "print(t)"
   ]
  },
  {
   "cell_type": "markdown",
   "id": "1726d38d-f490-431c-8e78-cc4e608bf728",
   "metadata": {},
   "source": [
    "len(Y_test)"
   ]
  },
  {
   "cell_type": "markdown",
   "id": "f52eb688-3aae-4705-a4ea-8035a1e42f7f",
   "metadata": {},
   "source": [
    "Y_test[-1]"
   ]
  },
  {
   "cell_type": "markdown",
   "id": "a262862c-14d7-4343-b8c3-5d524fc7dedd",
   "metadata": {},
   "source": [
    "len(test_sentences)"
   ]
  },
  {
   "cell_type": "markdown",
   "id": "ad400af2-a136-4b7d-a04b-737afd909bc1",
   "metadata": {},
   "source": [
    "len(Y_test)"
   ]
  },
  {
   "cell_type": "markdown",
   "id": "44354f3d-2c6d-43cc-8158-a980bc152e68",
   "metadata": {},
   "source": [
    "len(y_pred)"
   ]
  },
  {
   "cell_type": "markdown",
   "id": "2664ed9d-e067-4a36-a1e7-acf3f2bb5be2",
   "metadata": {},
   "source": [
    "min(test_data.sent)"
   ]
  },
  {
   "cell_type": "markdown",
   "id": "e01fe374-ac27-4dec-86d0-d5da013d4dfd",
   "metadata": {},
   "source": [
    "test_data.head()"
   ]
  },
  {
   "cell_type": "markdown",
   "id": "d7cadbe6-9f38-4613-8d45-6a400af99272",
   "metadata": {},
   "source": [
    "len(test_data.Text) <3"
   ]
  },
  {
   "cell_type": "code",
   "execution_count": null,
   "id": "808537cd-1878-4438-8f83-eef1dc798ef6",
   "metadata": {},
   "outputs": [],
   "source": []
  },
  {
   "cell_type": "code",
   "execution_count": null,
   "id": "859dcf72-70ab-460a-a0da-0f96cd657d42",
   "metadata": {},
   "outputs": [],
   "source": []
  },
  {
   "cell_type": "code",
   "execution_count": null,
   "id": "11e6c5dc-9278-47f3-986d-953e6740e74f",
   "metadata": {},
   "outputs": [],
   "source": []
  },
  {
   "cell_type": "code",
   "execution_count": null,
   "id": "ddfdb3eb-3614-4a42-b86a-6cb425717534",
   "metadata": {},
   "outputs": [],
   "source": []
  },
  {
   "cell_type": "code",
   "execution_count": null,
   "id": "cf59bd0c-1ce5-4865-a8c9-81d0d5716395",
   "metadata": {},
   "outputs": [],
   "source": []
  },
  {
   "cell_type": "code",
   "execution_count": null,
   "id": "6536388b-4b62-404c-920c-e3cda1d7b742",
   "metadata": {},
   "outputs": [],
   "source": []
  },
  {
   "cell_type": "code",
   "execution_count": null,
   "id": "039d6904-fcde-4886-8f20-a5d7f834ad19",
   "metadata": {},
   "outputs": [],
   "source": []
  },
  {
   "cell_type": "code",
   "execution_count": null,
   "id": "0e57928a-7c89-4ae0-8966-73694243548a",
   "metadata": {},
   "outputs": [],
   "source": []
  },
  {
   "cell_type": "code",
   "execution_count": null,
   "id": "eb55d272-3005-4a1c-9ac9-dc82334c8d8d",
   "metadata": {},
   "outputs": [],
   "source": []
  },
  {
   "cell_type": "code",
   "execution_count": null,
   "id": "950824ec-8f94-4733-897e-d2d61e21a41e",
   "metadata": {},
   "outputs": [],
   "source": []
  },
  {
   "cell_type": "code",
   "execution_count": null,
   "id": "f21adfde-a290-40a1-8707-38259b195dd3",
   "metadata": {},
   "outputs": [],
   "source": []
  },
  {
   "cell_type": "code",
   "execution_count": null,
   "id": "16114cf5-0dfd-43f8-84c4-198f64c65d90",
   "metadata": {},
   "outputs": [],
   "source": []
  },
  {
   "cell_type": "code",
   "execution_count": 43,
   "id": "f635bfbe-06f1-4b4a-b6a2-13cb18cfb046",
   "metadata": {},
   "outputs": [
    {
     "ename": "SyntaxError",
     "evalue": "invalid syntax (73835126.py, line 5)",
     "output_type": "error",
     "traceback": [
      "\u001b[1;36m  Cell \u001b[1;32mIn[43], line 5\u001b[1;36m\u001b[0m\n\u001b[1;33m    match each_label:\u001b[0m\n\u001b[1;37m          ^\u001b[0m\n\u001b[1;31mSyntaxError\u001b[0m\u001b[1;31m:\u001b[0m invalid syntax\n"
     ]
    }
   ],
   "source": [
    "response = {}\n",
    "for pred_labels in y_pred:\n",
    "\n",
    "    for each_label in pred_labels:\n",
    "        match each_label:\n",
    "            case 'D': #Disease\n",
    "                \n",
    "            case 'T': #Treatment\n",
    "            case  _ :\n"
   ]
  },
  {
   "cell_type": "code",
   "execution_count": null,
   "id": "2a77791b-6a6f-44e5-b55e-07ffd9ba0a6f",
   "metadata": {},
   "outputs": [],
   "source": []
  }
 ],
 "metadata": {
  "kernelspec": {
   "display_name": "Python 3 (ipykernel)",
   "language": "python",
   "name": "python3"
  },
  "language_info": {
   "codemirror_mode": {
    "name": "ipython",
    "version": 3
   },
   "file_extension": ".py",
   "mimetype": "text/x-python",
   "name": "python",
   "nbconvert_exporter": "python",
   "pygments_lexer": "ipython3",
   "version": "3.9.13"
  }
 },
 "nbformat": 4,
 "nbformat_minor": 5
}
