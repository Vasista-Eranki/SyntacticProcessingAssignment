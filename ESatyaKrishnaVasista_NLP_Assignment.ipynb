{
 "cells": [
  {
   "cell_type": "markdown",
   "id": "5e60484a-e40e-4f60-975e-34c643e066d6",
   "metadata": {},
   "source": [
    "# Syantactic Processing - Assignment"
   ]
  },
  {
   "cell_type": "markdown",
   "id": "4489ca9f-ff5d-402c-a2c3-29bfac05c788",
   "metadata": {},
   "source": [
    "### Imports and Prepare the Model"
   ]
  },
  {
   "cell_type": "code",
   "execution_count": 1,
   "id": "9e29b2b2-0e26-460c-b3f8-c72094db89ed",
   "metadata": {},
   "outputs": [],
   "source": [
    "import spacy\n",
    "import sklearn_crfsuite\n",
    "from sklearn_crfsuite import metrics\n",
    "\n",
    "model = spacy.load(\"en_core_web_sm\")"
   ]
  },
  {
   "cell_type": "code",
   "execution_count": 2,
   "id": "c261c8f7-3170-4b55-a519-f8418db5da97",
   "metadata": {},
   "outputs": [],
   "source": [
    "import pandas as pd\n",
    "import numpy as np"
   ]
  },
  {
   "cell_type": "markdown",
   "id": "dc4bc15e-6f02-48dc-a91b-ed8749f2ca4d",
   "metadata": {},
   "source": [
    "## Read the input file contents"
   ]
  },
  {
   "cell_type": "code",
   "execution_count": 3,
   "id": "0ce3c9b3-8709-480e-93b2-305e65bd29b7",
   "metadata": {},
   "outputs": [],
   "source": [
    "base_dir = './'\n",
    "with open(base_dir+'train_sent', 'r') as train_sentence_file:\n",
    "  input_train_sent = train_sentence_file.readlines()\n",
    "\n",
    "with open(base_dir+'train_label', 'r') as train_label_file:\n",
    "  input_train_labels = train_label_file.readlines()\n",
    "\n",
    "with open(base_dir+'test_sent', 'r') as test_sentence_file:\n",
    "  input_test_sent = test_sentence_file.readlines()\n",
    "\n",
    "with open(base_dir+'test_label', 'r') as test_label_file:\n",
    "  input_test_labels = test_label_file.readlines()\n"
   ]
  },
  {
   "cell_type": "code",
   "execution_count": 4,
   "id": "60e0b067-b860-47f9-8fa1-319eba21bcad",
   "metadata": {},
   "outputs": [
    {
     "data": {
      "text/plain": [
       "['O\\n', 'O\\n', 'O\\n', 'O\\n', 'O\\n']"
      ]
     },
     "execution_count": 4,
     "metadata": {},
     "output_type": "execute_result"
    }
   ],
   "source": [
    "input_train_sent[0:5]\n",
    "input_train_labels[0:5]"
   ]
  },
  {
   "cell_type": "markdown",
   "id": "a91d0626-e4b8-40c6-9f98-6654410b170a",
   "metadata": {},
   "source": [
    "**The Lines in each file have \\n as a trailing character. This needs to be trimmed down before creating the sentences**"
   ]
  },
  {
   "cell_type": "code",
   "execution_count": 5,
   "id": "c2cb08b5-1244-4e4c-9901-039cd48c2f20",
   "metadata": {},
   "outputs": [],
   "source": [
    "input_train_sent = [word.splitlines()[0] for word in input_train_sent]\n",
    "input_train_labels = [word.splitlines()[0] for word in input_train_labels]\n",
    "\n",
    "input_test_sent = [word.splitlines()[0] for word in input_test_sent]\n",
    "input_test_labels = [word.splitlines()[0] for word in input_test_labels]"
   ]
  },
  {
   "cell_type": "code",
   "execution_count": 6,
   "id": "a9d18c1d-cbb3-44f6-8a7c-ad18393a2a83",
   "metadata": {},
   "outputs": [],
   "source": [
    "def get_sentences(data):\n",
    "    \"Returns a list of sentences by joining the input data wherever an empty string value is encountered...\"\n",
    "    return_data = []\n",
    "    current_line = ''\n",
    "    for word in data:\n",
    "        if len(word) == 0 :\n",
    "            return_data.append(current_line)\n",
    "            current_line = \"\"\n",
    "        else:\n",
    "            if len(current_line) == 0:\n",
    "                current_line = word\n",
    "            else:\n",
    "                current_line += ' '+ word\n",
    "    return return_data"
   ]
  },
  {
   "cell_type": "code",
   "execution_count": 7,
   "id": "94dd44a1-89e7-48b3-b1e1-f3a251b236fd",
   "metadata": {},
   "outputs": [],
   "source": [
    "train_sentences = get_sentences(input_train_sent)\n",
    "train_labels = get_sentences(input_train_labels)\n",
    "test_sentences = get_sentences(input_test_sent)\n",
    "test_labels = get_sentences(input_test_labels)"
   ]
  },
  {
   "cell_type": "code",
   "execution_count": 8,
   "id": "e28e5ea4-6c69-41b5-89a0-fd835eabfac1",
   "metadata": {},
   "outputs": [
    {
     "name": "stdout",
     "output_type": "stream",
     "text": [
      "Total Sentences in the training Corpus:  2599\n",
      "Total Labels in the training Corpus:  2599\n",
      "Total Sentences in the testing Corpus:  1056\n",
      "Total Labels in the testing Corpus:  1056\n"
     ]
    }
   ],
   "source": [
    "print(\"Total Sentences in the training Corpus: \", len(train_sentences))\n",
    "print(\"Total Labels in the training Corpus: \", len(train_labels))\n",
    "print(\"Total Sentences in the testing Corpus: \", len(test_sentences))\n",
    "print(\"Total Labels in the testing Corpus: \", len(test_labels))\n"
   ]
  },
  {
   "cell_type": "markdown",
   "id": "ca1fabd5-7693-4276-935a-81feb0fceea8",
   "metadata": {},
   "source": [
    "### Task-01: Print 5 sentences"
   ]
  },
  {
   "cell_type": "markdown",
   "id": "7d45537d-0ec8-4990-8cb8-77d7f0ef26a4",
   "metadata": {},
   "source": [
    "#### Training sentences"
   ]
  },
  {
   "cell_type": "code",
   "execution_count": 9,
   "id": "138f46ce-c2e8-43a1-81e6-23e660abf4a4",
   "metadata": {},
   "outputs": [
    {
     "name": "stdout",
     "output_type": "stream",
     "text": [
      "Sentence:  All live births > or = 23 weeks at the University of Vermont in 1995 ( n = 2395 ) were retrospectively analyzed for delivery route , indication for cesarean , gestational age , parity , and practice group ( to reflect risk status )\n",
      "Labels:  O O O O O O O O O O O O O O O O O O O O O O O O O O O O O O O O O O O O O O O O O O O O O\n",
      "\n",
      "Sentence:  The total cesarean rate was 14.4 % ( 344 of 2395 ) , and the primary rate was 11.4 % ( 244 of 2144 )\n",
      "Labels:  O O O O O O O O O O O O O O O O O O O O O O O O O\n",
      "\n",
      "Sentence:  Abnormal presentation was the most common indication ( 25.6 % , 88 of 344 )\n",
      "Labels:  O O O O O O O O O O O O O O O\n",
      "\n",
      "Sentence:  The `` corrected '' cesarean rate ( maternal-fetal medicine and transported patients excluded ) was 12.4 % ( 273 of 2194 ) , and the `` corrected '' primary rate was 9.6 % ( 190 of 1975 )\n",
      "Labels:  O O O O O O O O O O O O O O O O O O O O O O O O O O O O O O O O O O O O O O\n",
      "\n",
      "Sentence:  Arrest of dilation was the most common indication in both `` corrected '' subgroups ( 23.4 and 24.6 % , respectively )\n",
      "Labels:  O O O O O O O O O O O O O O O O O O O O O O\n",
      "\n"
     ]
    }
   ],
   "source": [
    "for i in range(0,5):\n",
    "    print(\"Sentence: \", train_sentences[i])\n",
    "    print(\"Labels: \", train_labels[i], end=\"\\n\\n\")"
   ]
  },
  {
   "cell_type": "markdown",
   "id": "020057ef-82fb-497b-94a4-f0432ae0f1a9",
   "metadata": {},
   "source": [
    "#### Testing sentences"
   ]
  },
  {
   "cell_type": "code",
   "execution_count": 10,
   "id": "83ed71e0-4fdf-43f6-b0bb-285e24cf2a60",
   "metadata": {},
   "outputs": [
    {
     "name": "stdout",
     "output_type": "stream",
     "text": [
      "Sentence:  Furthermore , when all deliveries were analyzed , regardless of risk status but limited to gestational age > or = 36 weeks , the rates did not change ( 12.6 % , 280 of 2214 ; primary 9.2 % , 183 of 1994 )\n",
      "Labels:  O O O O O O O O O O O O O O O O O O O O O O O O O O O O O O O O O O O O O O O O O O O O\n",
      "\n",
      "Sentence:  As the ambient temperature increases , there is an increase in insensible fluid loss and the potential for dehydration\n",
      "Labels:  O O O O O O O O O O O O O O O O O O O\n",
      "\n",
      "Sentence:  The daily high temperature ranged from 71 to 104 degrees F and AFI values ranged from 1.7 to 24.7 cm during the study period\n",
      "Labels:  O O O O O O O O O O O O O O O O O O O O O O O O\n",
      "\n",
      "Sentence:  There was a significant correlation between the 2- , 3- , and 4-day mean temperature and AFI , with the 4-day mean being the most significant ( r = 0.31 , p & # 60 ; 0.001 )\n",
      "Labels:  O O O O O O O O O O O O O O O O O O O O O O O O O O O O O O O O O O O O O O\n",
      "\n",
      "Sentence:  Fluctuations in ambient temperature are inversely correlated to changes in AFI\n",
      "Labels:  O O O O O O O O O O O\n",
      "\n"
     ]
    }
   ],
   "source": [
    "for i in range(0,5):\n",
    "    print(\"Sentence: \", test_sentences[i])\n",
    "    print(\"Labels: \", test_labels[i], end=\"\\n\\n\")"
   ]
  },
  {
   "cell_type": "code",
   "execution_count": null,
   "id": "0b71ead9-c8da-401a-b222-3994f1086598",
   "metadata": {},
   "outputs": [],
   "source": []
  },
  {
   "cell_type": "markdown",
   "id": "a181343c-de42-4144-8201-9d772d98ee41",
   "metadata": {},
   "source": [
    "### Task-02: Extract the POS - Frequency of NOUN OR PROPN in train & test corpus"
   ]
  },
  {
   "cell_type": "code",
   "execution_count": 11,
   "id": "5ecac873-3645-4897-b13c-5efd8c0e57d3",
   "metadata": {},
   "outputs": [],
   "source": [
    "train_data = pd.DataFrame(columns=['sent', 'Text', 'LEMMA', 'POS', 'DEP'])\n",
    "test_data = pd.DataFrame(columns=['sent', 'Text', 'LEMMA', 'POS', 'DEP'])"
   ]
  },
  {
   "cell_type": "code",
   "execution_count": 12,
   "id": "f219cee6-c11a-4316-8187-d4ed737a6a10",
   "metadata": {
    "scrolled": true
   },
   "outputs": [],
   "source": [
    "for index, each_sent in enumerate(train_sentences):\n",
    "    sent = model(each_sent)\n",
    "    for token in sent:\n",
    "        train_data.loc[len(train_data)] = {'sent': index, 'Text': token.text, 'LEMMA': token.lemma_, 'POS' : token.pos_, 'DEP': token.dep_}"
   ]
  },
  {
   "cell_type": "code",
   "execution_count": 13,
   "id": "74afd47e-f4ca-49f9-b277-9368de65e6bb",
   "metadata": {
    "scrolled": true
   },
   "outputs": [],
   "source": [
    "for index, each_sent in enumerate(test_sentences):\n",
    "    sent = model(each_sent)\n",
    "    for token in sent:\n",
    "        test_data.loc[len(test_data)] = {'sent': index, 'Text': token.text, 'LEMMA': token.lemma_, 'POS' : token.pos_, 'DEP': token.dep_}"
   ]
  },
  {
   "cell_type": "code",
   "execution_count": 14,
   "id": "149b5dc2-b8c7-40f6-a7a0-4dd6cfde6f88",
   "metadata": {},
   "outputs": [],
   "source": [
    "nouns_in_train_data = train_data[(train_data.POS == 'NOUN') | (train_data.POS == 'PROPN')].loc[:, ['Text', 'POS']]\n",
    "nouns_in_test_data = test_data[(test_data.POS == 'NOUN') | (test_data.POS == 'PROPN')].loc[:, ['Text', 'POS']]\n",
    "\n",
    "final_nouns_in_data= pd.concat([nouns_in_train_data, nouns_in_test_data])"
   ]
  },
  {
   "cell_type": "code",
   "execution_count": 15,
   "id": "fedc7d5c-9ea8-4c72-adec-7bf603b4fd82",
   "metadata": {},
   "outputs": [
    {
     "data": {
      "text/html": [
       "<div>\n",
       "<style scoped>\n",
       "    .dataframe tbody tr th:only-of-type {\n",
       "        vertical-align: middle;\n",
       "    }\n",
       "\n",
       "    .dataframe tbody tr th {\n",
       "        vertical-align: top;\n",
       "    }\n",
       "\n",
       "    .dataframe thead th {\n",
       "        text-align: right;\n",
       "    }\n",
       "</style>\n",
       "<table border=\"1\" class=\"dataframe\">\n",
       "  <thead>\n",
       "    <tr style=\"text-align: right;\">\n",
       "      <th></th>\n",
       "      <th>POS</th>\n",
       "    </tr>\n",
       "    <tr>\n",
       "      <th>Text</th>\n",
       "      <th></th>\n",
       "    </tr>\n",
       "  </thead>\n",
       "  <tbody>\n",
       "    <tr>\n",
       "      <th>patients</th>\n",
       "      <td>492</td>\n",
       "    </tr>\n",
       "    <tr>\n",
       "      <th>treatment</th>\n",
       "      <td>281</td>\n",
       "    </tr>\n",
       "    <tr>\n",
       "      <th>%</th>\n",
       "      <td>247</td>\n",
       "    </tr>\n",
       "    <tr>\n",
       "      <th>cancer</th>\n",
       "      <td>200</td>\n",
       "    </tr>\n",
       "    <tr>\n",
       "      <th>therapy</th>\n",
       "      <td>175</td>\n",
       "    </tr>\n",
       "    <tr>\n",
       "      <th>...</th>\n",
       "      <td>...</td>\n",
       "    </tr>\n",
       "    <tr>\n",
       "      <th>fungicide</th>\n",
       "      <td>1</td>\n",
       "    </tr>\n",
       "    <tr>\n",
       "      <th>Minimal</th>\n",
       "      <td>1</td>\n",
       "    </tr>\n",
       "    <tr>\n",
       "      <th>Mikrozirkulation</th>\n",
       "      <td>1</td>\n",
       "    </tr>\n",
       "    <tr>\n",
       "      <th>fÃƒ1/4r</th>\n",
       "      <td>1</td>\n",
       "    </tr>\n",
       "    <tr>\n",
       "      <th>electrotherapy</th>\n",
       "      <td>1</td>\n",
       "    </tr>\n",
       "  </tbody>\n",
       "</table>\n",
       "<p>6431 rows × 1 columns</p>\n",
       "</div>"
      ],
      "text/plain": [
       "                  POS\n",
       "Text                 \n",
       "patients          492\n",
       "treatment         281\n",
       "%                 247\n",
       "cancer            200\n",
       "therapy           175\n",
       "...               ...\n",
       "fungicide           1\n",
       "Minimal             1\n",
       "Mikrozirkulation    1\n",
       "fÃƒ1/4r             1\n",
       "electrotherapy      1\n",
       "\n",
       "[6431 rows x 1 columns]"
      ]
     },
     "execution_count": 15,
     "metadata": {},
     "output_type": "execute_result"
    }
   ],
   "source": [
    "final_nouns_in_data.groupby(by='Text').agg('count').sort_values(by='POS', ascending=False)"
   ]
  },
  {
   "cell_type": "code",
   "execution_count": 16,
   "id": "651fe5e2-a5db-4edb-ba5c-ecf15f6426f7",
   "metadata": {},
   "outputs": [],
   "source": [
    "grouped_final_nouns_in_data = final_nouns_in_data.groupby(by='Text').agg('count').sort_values(by='POS', ascending=False).reset_index()"
   ]
  },
  {
   "cell_type": "markdown",
   "id": "94ada430-30c9-4d2d-ad87-a0d8da0f5cac",
   "metadata": {},
   "source": [
    "**Top 25 Most frequent words in the corpus (training+testing)**"
   ]
  },
  {
   "cell_type": "code",
   "execution_count": 17,
   "id": "2c2b28d6-fba3-48a5-9a5f-a2b6f156c6d9",
   "metadata": {},
   "outputs": [
    {
     "data": {
      "text/html": [
       "<div>\n",
       "<style scoped>\n",
       "    .dataframe tbody tr th:only-of-type {\n",
       "        vertical-align: middle;\n",
       "    }\n",
       "\n",
       "    .dataframe tbody tr th {\n",
       "        vertical-align: top;\n",
       "    }\n",
       "\n",
       "    .dataframe thead th {\n",
       "        text-align: right;\n",
       "    }\n",
       "</style>\n",
       "<table border=\"1\" class=\"dataframe\">\n",
       "  <thead>\n",
       "    <tr style=\"text-align: right;\">\n",
       "      <th></th>\n",
       "      <th>Text</th>\n",
       "      <th>POS</th>\n",
       "    </tr>\n",
       "  </thead>\n",
       "  <tbody>\n",
       "    <tr>\n",
       "      <th>0</th>\n",
       "      <td>patients</td>\n",
       "      <td>492</td>\n",
       "    </tr>\n",
       "    <tr>\n",
       "      <th>1</th>\n",
       "      <td>treatment</td>\n",
       "      <td>281</td>\n",
       "    </tr>\n",
       "    <tr>\n",
       "      <th>2</th>\n",
       "      <td>%</td>\n",
       "      <td>247</td>\n",
       "    </tr>\n",
       "    <tr>\n",
       "      <th>3</th>\n",
       "      <td>cancer</td>\n",
       "      <td>200</td>\n",
       "    </tr>\n",
       "    <tr>\n",
       "      <th>4</th>\n",
       "      <td>therapy</td>\n",
       "      <td>175</td>\n",
       "    </tr>\n",
       "    <tr>\n",
       "      <th>5</th>\n",
       "      <td>study</td>\n",
       "      <td>154</td>\n",
       "    </tr>\n",
       "    <tr>\n",
       "      <th>6</th>\n",
       "      <td>disease</td>\n",
       "      <td>142</td>\n",
       "    </tr>\n",
       "    <tr>\n",
       "      <th>7</th>\n",
       "      <td>cell</td>\n",
       "      <td>140</td>\n",
       "    </tr>\n",
       "    <tr>\n",
       "      <th>8</th>\n",
       "      <td>lung</td>\n",
       "      <td>116</td>\n",
       "    </tr>\n",
       "    <tr>\n",
       "      <th>9</th>\n",
       "      <td>group</td>\n",
       "      <td>94</td>\n",
       "    </tr>\n",
       "    <tr>\n",
       "      <th>10</th>\n",
       "      <td>chemotherapy</td>\n",
       "      <td>88</td>\n",
       "    </tr>\n",
       "    <tr>\n",
       "      <th>11</th>\n",
       "      <td>gene</td>\n",
       "      <td>87</td>\n",
       "    </tr>\n",
       "    <tr>\n",
       "      <th>12</th>\n",
       "      <td>effects</td>\n",
       "      <td>85</td>\n",
       "    </tr>\n",
       "    <tr>\n",
       "      <th>13</th>\n",
       "      <td>results</td>\n",
       "      <td>79</td>\n",
       "    </tr>\n",
       "    <tr>\n",
       "      <th>14</th>\n",
       "      <td>women</td>\n",
       "      <td>77</td>\n",
       "    </tr>\n",
       "    <tr>\n",
       "      <th>15</th>\n",
       "      <td>use</td>\n",
       "      <td>74</td>\n",
       "    </tr>\n",
       "    <tr>\n",
       "      <th>16</th>\n",
       "      <td>TO_SEE</td>\n",
       "      <td>74</td>\n",
       "    </tr>\n",
       "    <tr>\n",
       "      <th>17</th>\n",
       "      <td>cases</td>\n",
       "      <td>71</td>\n",
       "    </tr>\n",
       "    <tr>\n",
       "      <th>18</th>\n",
       "      <td>surgery</td>\n",
       "      <td>71</td>\n",
       "    </tr>\n",
       "    <tr>\n",
       "      <th>19</th>\n",
       "      <td>risk</td>\n",
       "      <td>71</td>\n",
       "    </tr>\n",
       "    <tr>\n",
       "      <th>20</th>\n",
       "      <td>analysis</td>\n",
       "      <td>70</td>\n",
       "    </tr>\n",
       "    <tr>\n",
       "      <th>21</th>\n",
       "      <td>rate</td>\n",
       "      <td>67</td>\n",
       "    </tr>\n",
       "    <tr>\n",
       "      <th>22</th>\n",
       "      <td>response</td>\n",
       "      <td>66</td>\n",
       "    </tr>\n",
       "    <tr>\n",
       "      <th>23</th>\n",
       "      <td>survival</td>\n",
       "      <td>65</td>\n",
       "    </tr>\n",
       "    <tr>\n",
       "      <th>24</th>\n",
       "      <td>children</td>\n",
       "      <td>64</td>\n",
       "    </tr>\n",
       "  </tbody>\n",
       "</table>\n",
       "</div>"
      ],
      "text/plain": [
       "            Text  POS\n",
       "0       patients  492\n",
       "1      treatment  281\n",
       "2              %  247\n",
       "3         cancer  200\n",
       "4        therapy  175\n",
       "5          study  154\n",
       "6        disease  142\n",
       "7           cell  140\n",
       "8           lung  116\n",
       "9          group   94\n",
       "10  chemotherapy   88\n",
       "11          gene   87\n",
       "12       effects   85\n",
       "13       results   79\n",
       "14         women   77\n",
       "15           use   74\n",
       "16        TO_SEE   74\n",
       "17         cases   71\n",
       "18       surgery   71\n",
       "19          risk   71\n",
       "20      analysis   70\n",
       "21          rate   67\n",
       "22      response   66\n",
       "23      survival   65\n",
       "24      children   64"
      ]
     },
     "execution_count": 17,
     "metadata": {},
     "output_type": "execute_result"
    }
   ],
   "source": [
    "grouped_final_nouns_in_data.head(25)"
   ]
  },
  {
   "cell_type": "code",
   "execution_count": null,
   "id": "89d84ade-aa05-4aeb-ae35-f577af441458",
   "metadata": {},
   "outputs": [],
   "source": []
  },
  {
   "cell_type": "code",
   "execution_count": null,
   "id": "b68db274-158b-4038-a2cf-9d275b3d172e",
   "metadata": {},
   "outputs": [],
   "source": []
  }
 ],
 "metadata": {
  "kernelspec": {
   "display_name": "Python 3 (ipykernel)",
   "language": "python",
   "name": "python3"
  },
  "language_info": {
   "codemirror_mode": {
    "name": "ipython",
    "version": 3
   },
   "file_extension": ".py",
   "mimetype": "text/x-python",
   "name": "python",
   "nbconvert_exporter": "python",
   "pygments_lexer": "ipython3",
   "version": "3.9.13"
  }
 },
 "nbformat": 4,
 "nbformat_minor": 5
}
