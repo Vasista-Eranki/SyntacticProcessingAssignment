{
 "cells": [
  {
   "cell_type": "markdown",
   "id": "5e60484a-e40e-4f60-975e-34c643e066d6",
   "metadata": {},
   "source": [
    "# Syantactic Processing - Assignment"
   ]
  },
  {
   "cell_type": "markdown",
   "id": "4489ca9f-ff5d-402c-a2c3-29bfac05c788",
   "metadata": {},
   "source": [
    "### Imports and Prepare the Model"
   ]
  },
  {
   "cell_type": "code",
   "execution_count": 1,
   "id": "9e29b2b2-0e26-460c-b3f8-c72094db89ed",
   "metadata": {},
   "outputs": [],
   "source": [
    "import spacy\n",
    "import sklearn_crfsuite\n",
    "from sklearn_crfsuite import metrics\n",
    "\n",
    "model = spacy.load(\"en_core_web_sm\")"
   ]
  },
  {
   "cell_type": "markdown",
   "id": "dc4bc15e-6f02-48dc-a91b-ed8749f2ca4d",
   "metadata": {},
   "source": [
    "## Read the input file contents"
   ]
  },
  {
   "cell_type": "code",
   "execution_count": null,
   "id": "c261c8f7-3170-4b55-a519-f8418db5da97",
   "metadata": {},
   "outputs": [],
   "source": []
  },
  {
   "cell_type": "code",
   "execution_count": 2,
   "id": "0ce3c9b3-8709-480e-93b2-305e65bd29b7",
   "metadata": {},
   "outputs": [],
   "source": [
    "base_dir = './'\n",
    "with open(base_dir+'train_sent', 'r') as train_sentence_file:\n",
    "  input_train_sent = train_sentence_file.readlines()\n",
    "\n",
    "with open(base_dir+'train_label', 'r') as train_label_file:\n",
    "  input_train_labels = train_label_file.readlines()\n",
    "\n",
    "with open(base_dir+'test_sent', 'r') as test_sentence_file:\n",
    "  input_test_sent = test_sentence_file.readlines()\n",
    "\n",
    "with open(base_dir+'test_label', 'r') as test_label_file:\n",
    "  input_test_labels = test_label_file.readlines()\n"
   ]
  },
  {
   "cell_type": "code",
   "execution_count": 3,
   "id": "60e0b067-b860-47f9-8fa1-319eba21bcad",
   "metadata": {},
   "outputs": [
    {
     "data": {
      "text/plain": [
       "['O\\n', 'O\\n', 'O\\n', 'O\\n', 'O\\n']"
      ]
     },
     "execution_count": 3,
     "metadata": {},
     "output_type": "execute_result"
    }
   ],
   "source": [
    "input_train_sent[0:5]\n",
    "input_train_labels[0:5]"
   ]
  },
  {
   "cell_type": "markdown",
   "id": "a91d0626-e4b8-40c6-9f98-6654410b170a",
   "metadata": {},
   "source": [
    "**The Lines in each file have \\n as a trailing character. This needs to be trimmed down before creating the sentences**"
   ]
  },
  {
   "cell_type": "markdown",
   "id": "62f330b7-4c4a-4a58-8b45-de4e1fe54770",
   "metadata": {},
   "source": [
    "input_train_sent = [word.splitlines()[0] for word in input_train_sent]\n",
    "input_train_labels = [word.splitlines()[0] for word in input_train_labels]\n",
    "\n",
    "input_test_sent = [word.splitlines()[0] for word in input_test_sent]\n",
    "input_test_labels = [word.splitlines()[0] for word in input_test_labels]"
   ]
  },
  {
   "cell_type": "code",
   "execution_count": 4,
   "id": "a9d18c1d-cbb3-44f6-8a7c-ad18393a2a83",
   "metadata": {},
   "outputs": [],
   "source": [
    "def get_sentences(data):\n",
    "    \"Returns a list of sentences by joining the input data wherever an empty string value is encountered...\"\n",
    "    return_data = []\n",
    "    current_line = ''\n",
    "    for word in data:\n",
    "        trimmed_word = word.splitlines()[0]\n",
    "        if len(trimmed_word) == 0 :\n",
    "            return_data.append(current_line)\n",
    "            current_line = \"\"\n",
    "        else:\n",
    "            if len(current_line) == 0:\n",
    "                current_line = trimmed_word\n",
    "            else:\n",
    "                current_line += ' '+ trimmed_word\n",
    "    return return_data"
   ]
  },
  {
   "cell_type": "code",
   "execution_count": 5,
   "id": "94dd44a1-89e7-48b3-b1e1-f3a251b236fd",
   "metadata": {},
   "outputs": [],
   "source": [
    "train_sentences = get_sentences(input_train_sent)\n",
    "train_labels = get_sentences(input_train_labels)\n",
    "test_sentences = get_sentences(input_test_sent)\n",
    "test_labels = get_sentences(input_test_labels)"
   ]
  },
  {
   "cell_type": "code",
   "execution_count": 6,
   "id": "e28e5ea4-6c69-41b5-89a0-fd835eabfac1",
   "metadata": {},
   "outputs": [
    {
     "name": "stdout",
     "output_type": "stream",
     "text": [
      "Total Sentences in the training Corpus:  2599\n",
      "Total Labels in the training Corpus:  2599\n",
      "Total Sentences in the testing Corpus:  1056\n",
      "Total Labels in the testing Corpus:  1056\n"
     ]
    }
   ],
   "source": [
    "print(\"Total Sentences in the training Corpus: \", len(train_sentences))\n",
    "print(\"Total Labels in the training Corpus: \", len(train_labels))\n",
    "print(\"Total Sentences in the testing Corpus: \", len(test_sentences))\n",
    "print(\"Total Labels in the testing Corpus: \", len(test_labels))\n"
   ]
  },
  {
   "cell_type": "markdown",
   "id": "ca1fabd5-7693-4276-935a-81feb0fceea8",
   "metadata": {},
   "source": [
    "### Task-01: Print 5 sentences"
   ]
  },
  {
   "cell_type": "markdown",
   "id": "7d45537d-0ec8-4990-8cb8-77d7f0ef26a4",
   "metadata": {},
   "source": [
    "#### Training sentences"
   ]
  },
  {
   "cell_type": "code",
   "execution_count": 7,
   "id": "138f46ce-c2e8-43a1-81e6-23e660abf4a4",
   "metadata": {},
   "outputs": [
    {
     "name": "stdout",
     "output_type": "stream",
     "text": [
      "Sentence:  All live births > or = 23 weeks at the University of Vermont in 1995 ( n = 2395 ) were retrospectively analyzed for delivery route , indication for cesarean , gestational age , parity , and practice group ( to reflect risk status )\n",
      "Labels:  O O O O O O O O O O O O O O O O O O O O O O O O O O O O O O O O O O O O O O O O O O O O O\n",
      "\n",
      "Sentence:  The total cesarean rate was 14.4 % ( 344 of 2395 ) , and the primary rate was 11.4 % ( 244 of 2144 )\n",
      "Labels:  O O O O O O O O O O O O O O O O O O O O O O O O O\n",
      "\n",
      "Sentence:  Abnormal presentation was the most common indication ( 25.6 % , 88 of 344 )\n",
      "Labels:  O O O O O O O O O O O O O O O\n",
      "\n",
      "Sentence:  The `` corrected '' cesarean rate ( maternal-fetal medicine and transported patients excluded ) was 12.4 % ( 273 of 2194 ) , and the `` corrected '' primary rate was 9.6 % ( 190 of 1975 )\n",
      "Labels:  O O O O O O O O O O O O O O O O O O O O O O O O O O O O O O O O O O O O O O\n",
      "\n",
      "Sentence:  Arrest of dilation was the most common indication in both `` corrected '' subgroups ( 23.4 and 24.6 % , respectively )\n",
      "Labels:  O O O O O O O O O O O O O O O O O O O O O O\n",
      "\n"
     ]
    }
   ],
   "source": [
    "for i in range(0,5):\n",
    "    print(\"Sentence: \", train_sentences[i])\n",
    "    print(\"Labels: \", train_labels[i], end=\"\\n\\n\")"
   ]
  },
  {
   "cell_type": "markdown",
   "id": "020057ef-82fb-497b-94a4-f0432ae0f1a9",
   "metadata": {},
   "source": [
    "#### Testing sentences"
   ]
  },
  {
   "cell_type": "code",
   "execution_count": 8,
   "id": "83ed71e0-4fdf-43f6-b0bb-285e24cf2a60",
   "metadata": {},
   "outputs": [
    {
     "name": "stdout",
     "output_type": "stream",
     "text": [
      "Sentence:  Furthermore , when all deliveries were analyzed , regardless of risk status but limited to gestational age > or = 36 weeks , the rates did not change ( 12.6 % , 280 of 2214 ; primary 9.2 % , 183 of 1994 )\n",
      "Labels:  O O O O O O O O O O O O O O O O O O O O O O O O O O O O O O O O O O O O O O O O O O O O\n",
      "\n",
      "Sentence:  As the ambient temperature increases , there is an increase in insensible fluid loss and the potential for dehydration\n",
      "Labels:  O O O O O O O O O O O O O O O O O O O\n",
      "\n",
      "Sentence:  The daily high temperature ranged from 71 to 104 degrees F and AFI values ranged from 1.7 to 24.7 cm during the study period\n",
      "Labels:  O O O O O O O O O O O O O O O O O O O O O O O O\n",
      "\n",
      "Sentence:  There was a significant correlation between the 2- , 3- , and 4-day mean temperature and AFI , with the 4-day mean being the most significant ( r = 0.31 , p & # 60 ; 0.001 )\n",
      "Labels:  O O O O O O O O O O O O O O O O O O O O O O O O O O O O O O O O O O O O O O\n",
      "\n",
      "Sentence:  Fluctuations in ambient temperature are inversely correlated to changes in AFI\n",
      "Labels:  O O O O O O O O O O O\n",
      "\n"
     ]
    }
   ],
   "source": [
    "for i in range(0,5):\n",
    "    print(\"Sentence: \", test_sentences[i])\n",
    "    print(\"Labels: \", test_labels[i], end=\"\\n\\n\")"
   ]
  },
  {
   "cell_type": "code",
   "execution_count": null,
   "id": "0b71ead9-c8da-401a-b222-3994f1086598",
   "metadata": {},
   "outputs": [],
   "source": []
  },
  {
   "cell_type": "markdown",
   "id": "a181343c-de42-4144-8201-9d772d98ee41",
   "metadata": {},
   "source": [
    "### Task-02: Extract the POS - Frequency of NOUN OR PROPN in train & test corpus"
   ]
  },
  {
   "cell_type": "code",
   "execution_count": 9,
   "id": "f219cee6-c11a-4316-8187-d4ed737a6a10",
   "metadata": {},
   "outputs": [
    {
     "ename": "SyntaxError",
     "evalue": "invalid syntax (2339532056.py, line 1)",
     "output_type": "error",
     "traceback": [
      "\u001b[1;36m  Cell \u001b[1;32mIn[9], line 1\u001b[1;36m\u001b[0m\n\u001b[1;33m    for word in input_train_sent\u001b[0m\n\u001b[1;37m                                ^\u001b[0m\n\u001b[1;31mSyntaxError\u001b[0m\u001b[1;31m:\u001b[0m invalid syntax\n"
     ]
    }
   ],
   "source": [
    "\n",
    "for word in input_train_sent"
   ]
  }
 ],
 "metadata": {
  "kernelspec": {
   "display_name": "Python 3 (ipykernel)",
   "language": "python",
   "name": "python3"
  },
  "language_info": {
   "codemirror_mode": {
    "name": "ipython",
    "version": 3
   },
   "file_extension": ".py",
   "mimetype": "text/x-python",
   "name": "python",
   "nbconvert_exporter": "python",
   "pygments_lexer": "ipython3",
   "version": "3.9.13"
  }
 },
 "nbformat": 4,
 "nbformat_minor": 5
}
